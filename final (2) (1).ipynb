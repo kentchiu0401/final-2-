{
 "cells": [
  {
   "cell_type": "code",
   "execution_count": 115,
   "id": "23ebf550",
   "metadata": {
    "scrolled": true
   },
   "outputs": [
    {
     "name": "stdout",
     "output_type": "stream",
     "text": [
      "              學校名稱  111學年度在學學生數  110學年度畢業生數  111學年度境外學位生數  110學年度休學人數  \\\n",
      "國立政治大學      國立政治大學         1000         500            50         100   \n",
      "國立清華大學      國立清華大學         1200         600            60         120   \n",
      "國立臺灣大學      國立臺灣大學          800         400            40          80   \n",
      "國立臺灣師範大學  國立臺灣師範大學          900         450            45          90   \n",
      "國立成功大學      國立成功大學         1100         550            55         110   \n",
      "國立中興大學      國立中興大學          950         480            48          95   \n",
      "國立中正大學      國立中正大學         1000         490            49          98   \n",
      "國立高雄師範大學  國立高雄師範大學          800         400            40          80   \n",
      "國立彰化師範大學  國立彰化師範大學          700         350            35          70   \n",
      "國立東華大學      國立東華大學         1200         600            60         120   \n",
      "國立聯合大學      國立聯合大學         1100         550            55         110   \n",
      "國立臺中教育大學  國立臺中教育大學          900         450            45          90   \n",
      "靜宜大學          靜宜大學          950         480            48          95   \n",
      "真理大學          真理大學          750         380            38          75   \n",
      "\n",
      "          110學年度退學人數  110學年度學生實習數  \n",
      "國立政治大學            20           30  \n",
      "國立清華大學            25           35  \n",
      "國立臺灣大學            15           25  \n",
      "國立臺灣師範大學          18           28  \n",
      "國立成功大學            22           32  \n",
      "國立中興大學            19           29  \n",
      "國立中正大學            20           30  \n",
      "國立高雄師範大學          15           25  \n",
      "國立彰化師範大學          14           22  \n",
      "國立東華大學            25           35  \n",
      "國立聯合大學            22           32  \n",
      "國立臺中教育大學          18           28  \n",
      "靜宜大學              19           29  \n",
      "真理大學              16           26  \n"
     ]
    }
   ],
   "source": [
    "#建立學生類表格\n",
    "import pandas as pd\n",
    "#知道了列的名稱，加入欄位並列成表格\n",
    "original_columns = [\"111學年度在學學生數\", \"110學年度畢業生數\", \"111學年度境外學位生數\",\n",
    "                    \"110學年度休學人數\", \"110學年度退學人數\", \"110學年度學生實習數\"]\n",
    "\n",
    "index = [\"國立政治大學\", \"國立清華大學\", \"國立臺灣大學\", \"國立臺灣師範大學\",\n",
    "         \"國立成功大學\", \"國立中興大學\", \"國立中正大學\", \"國立高雄師範大學\",\n",
    "         \"國立彰化師範大學\", \"國立東華大學\", \"國立聯合大學\", \"國立臺中教育大學\",\n",
    "         \"靜宜大學\", \"真理大學\"]\n",
    "\n",
    "# 得到的數據，到時候一個一個填進去(先隨機亂數填入)\n",
    "data = [\n",
    "    [1000, 500, 50, 100, 20, 30],\n",
    "    [1200, 600, 60, 120, 25, 35],\n",
    "    [800, 400, 40, 80, 15, 25],\n",
    "    [900, 450, 45, 90, 18, 28],\n",
    "    [1100, 550, 55, 110, 22, 32],\n",
    "    [950, 480, 48, 95, 19, 29],\n",
    "    [1000, 490, 49, 98, 20, 30],\n",
    "    [800, 400, 40, 80, 15, 25],\n",
    "    [700, 350, 35, 70, 14, 22],\n",
    "    [1200, 600, 60, 120, 25, 35],\n",
    "    [1100, 550, 55, 110, 22, 32],\n",
    "    [900, 450, 45, 90, 18, 28],\n",
    "    [950, 480, 48, 95, 19, 29],\n",
    "    [750, 380, 38, 75, 16, 26],\n",
    "]\n",
    "\n",
    "df = pd.DataFrame(data, columns=original_columns, index=index)\n",
    "\n",
    "new_column_values = [\"國立政治大學\", \"國立清華大學\", \"國立臺灣大學\", \"國立臺灣師範大學\",\n",
    "                     \"國立成功大學\", \"國立中興大學\", \"國立中正大學\", \"國立高雄師範大學\",\n",
    "                     \"國立彰化師範大學\", \"國立東華大學\", \"國立聯合大學\", \"國立臺中教育大學\",\n",
    "                     \"靜宜大學\", \"真理大學\"]\n",
    "\n",
    "# 在 DataFrame 左側插入新列\n",
    "df.insert(loc=0, column=\"學校名稱\", value=new_column_values)\n",
    "\n",
    "# 輸出结果\n",
    "print(df)\n"
   ]
  },
  {
   "cell_type": "code",
   "execution_count": 116,
   "id": "a3492e83",
   "metadata": {},
   "outputs": [],
   "source": [
    "#先存成CSV檔看看是否格式正確\n",
    "df.to_csv('output3.csv', index=False, encoding='utf-8-sig')"
   ]
  },
  {
   "cell_type": "code",
   "execution_count": 101,
   "id": "ffe1a70f",
   "metadata": {
    "scrolled": true
   },
   "outputs": [
    {
     "name": "stdout",
     "output_type": "stream",
     "text": [
      "學生數：50 人\n",
      "畢業生數：9 人\n",
      "取得輔系資格：0 人\n",
      "取得雙主修資格：0 人\n",
      "學生數：5 人\n",
      "學生數：4 人\n",
      "僑生：0 人\n",
      "港澳生：1 人\n",
      "畢業境外生：0 人\n",
      "上學期至少1學期(修讀學分)以上：0 人\n",
      "上學期未滿1學期(修讀學分)：0 人\n",
      "下學期至少1學期(修讀學分)以上：1 人\n",
      "下學期未滿1學期(修讀學分)：0 人\n",
      "上學期：0 人次\n",
      "下學期：1 人次\n",
      "總計：15 人\n",
      "上學期：3 人\n",
      "下學期：5 人\n",
      "寒假實習：0 人次\n",
      "暑期實習：44 人次\n",
      "全學期/單一學期：42 人次\n",
      "學期期間實習：80 人次\n",
      "全學年實習：37 人\n",
      "\n",
      "\n",
      "\n"
     ]
    }
   ],
   "source": [
    "#抓取國立政治大學的學生類資料\n",
    "from selenium import webdriver\n",
    "from selenium.webdriver.chrome.service import Service\n",
    "from selenium.webdriver.common.by import By\n",
    "import requests\n",
    "import time\n",
    "# 設定 WebDriver 的路徑，這裡以 Chrome 為例\n",
    "path = r'C:\\Users\\Evan\\Downloads\\anaconda\\chromedriver-win64\\chromedriver.exe'\n",
    "url = \"https://udb.moe.edu.tw/udata/StatCardList/ISCED/000012CE619D/0001/%E5%9C%8B%E7%AB%8B%E6%94%BF%E6%B2%BB%E5%A4%A7%E5%AD%B8/02321/%E8%87%BA%E7%81%A3%E8%AA%9E%E6%96%87\"\n",
    "service=Service(executable_path=path)\n",
    "service\n",
    "# 使用 Chrome 開啟瀏覽器\n",
    "driver=webdriver.Chrome(service=service)\n",
    "\n",
    "# 前往目標網站\n",
    "driver.get(url)\n",
    "\n",
    "#等待10秒讓網站載入完成\n",
    "time.sleep(10)\n",
    "try:\n",
    "    # 使用Selenium的定位方法找到所有符合條件的元素\n",
    "    elements = driver.find_elements(By.CLASS_NAME, 'fs-3')\n",
    "\n",
    "    # 使用 for 迴圈處理每個元素\n",
    "    for i in range(0, len(elements)):  # 從索引0開始\n",
    "        try:\n",
    "            # 取得文字內容\n",
    "            text = elements[i].text\n",
    "            # 輸出文字內容\n",
    "            print(text)\n",
    "        except Exception as e:\n",
    "            print(f\"Error while getting text: {e}\")\n",
    "\n",
    "except NoSuchElementException as e:\n",
    "    print(f\"Element not found: {e}\")\n",
    "\n",
    "finally:\n",
    "    # 關閉瀏覽器\n",
    "    driver.quit()"
   ]
  },
  {
   "cell_type": "code",
   "execution_count": 102,
   "id": "3f5b9c01",
   "metadata": {},
   "outputs": [
    {
     "name": "stdout",
     "output_type": "stream",
     "text": [
      "203\n"
     ]
    }
   ],
   "source": [
    "#計算國立政治大學的110學年度學生實習數總數\n",
    "student_internship=0+44+42+80+37\n",
    "print(student_internship)"
   ]
  },
  {
   "cell_type": "code",
   "execution_count": 117,
   "id": "e8c8ef3e",
   "metadata": {
    "scrolled": true
   },
   "outputs": [
    {
     "name": "stdout",
     "output_type": "stream",
     "text": [
      "              學校名稱  111學年度在學學生數  110學年度畢業生數  111學年度境外學位生數  110學年度休學人數  \\\n",
      "國立政治大學      國立政治大學           50           9             5          15   \n",
      "國立清華大學      國立清華大學         1200         600            60         120   \n",
      "國立臺灣大學      國立臺灣大學          800         400            40          80   \n",
      "國立臺灣師範大學  國立臺灣師範大學          900         450            45          90   \n",
      "國立成功大學      國立成功大學         1100         550            55         110   \n",
      "國立中興大學      國立中興大學          950         480            48          95   \n",
      "國立中正大學      國立中正大學         1000         490            49          98   \n",
      "國立高雄師範大學  國立高雄師範大學          800         400            40          80   \n",
      "國立彰化師範大學  國立彰化師範大學          700         350            35          70   \n",
      "國立東華大學      國立東華大學         1200         600            60         120   \n",
      "國立聯合大學      國立聯合大學         1100         550            55         110   \n",
      "國立臺中教育大學  國立臺中教育大學          900         450            45          90   \n",
      "靜宜大學          靜宜大學          950         480            48          95   \n",
      "真理大學          真理大學          750         380            38          75   \n",
      "\n",
      "          110學年度退學人數  110學年度學生實習數  \n",
      "國立政治大學             8          203  \n",
      "國立清華大學            25           35  \n",
      "國立臺灣大學            15           25  \n",
      "國立臺灣師範大學          18           28  \n",
      "國立成功大學            22           32  \n",
      "國立中興大學            19           29  \n",
      "國立中正大學            20           30  \n",
      "國立高雄師範大學          15           25  \n",
      "國立彰化師範大學          14           22  \n",
      "國立東華大學            25           35  \n",
      "國立聯合大學            22           32  \n",
      "國立臺中教育大學          18           28  \n",
      "靜宜大學              19           29  \n",
      "真理大學              16           26  \n"
     ]
    }
   ],
   "source": [
    "# 修改國立政治大學的111學年度在學學生數、110學年度畢業生數、111學年度境外學位生數、110學年度休學人數、110學年度退學人數、110學年度學生實習數\n",
    "#\"111學年度在學學生數\"是第1條，\"110學年度畢業生數\"是第2條，\"111學年度境外學位生數\"是第5條，\"110學年度休學人數\"是倒數第8條，\n",
    "#\"110學年度退學人數\"是倒數第7與第6條加總，\"110學年度學生實習數\"是倒數第5條到最後1條的總和\n",
    "df.at[\"國立政治大學\", \"111學年度在學學生數\"] = 50\n",
    "df.at[\"國立政治大學\", \"110學年度畢業生數\"] = 9\n",
    "df.at[\"國立政治大學\", \"111學年度境外學位生數\"] = 5\n",
    "df.at[\"國立政治大學\", \"110學年度休學人數\"] = 15\n",
    "df.at[\"國立政治大學\", \"110學年度退學人數\"] = 8\n",
    "df.at[\"國立政治大學\", \"110學年度學生實習數\"] = 203\n",
    "\n",
    "# 輸出修改後的表格\n",
    "print(df)"
   ]
  },
  {
   "cell_type": "code",
   "execution_count": 118,
   "id": "4e86d680",
   "metadata": {
    "scrolled": true
   },
   "outputs": [
    {
     "name": "stdout",
     "output_type": "stream",
     "text": [
      "              學校名稱  111學年度專任教師數  111學年度兼任教師數\n",
      "國立政治大學      國立政治大學         1000          500\n",
      "國立清華大學      國立清華大學         1200          600\n",
      "國立臺灣大學      國立臺灣大學          800          400\n",
      "國立臺灣師範大學  國立臺灣師範大學          900          450\n",
      "國立成功大學      國立成功大學         1100          550\n",
      "國立中興大學      國立中興大學          950          480\n",
      "國立中正大學      國立中正大學         1000          490\n",
      "國立高雄師範大學  國立高雄師範大學          800          400\n",
      "國立彰化師範大學  國立彰化師範大學          700          350\n",
      "國立東華大學      國立東華大學         1200          600\n",
      "國立聯合大學      國立聯合大學         1100         5505\n",
      "國立臺中教育大學  國立臺中教育大學          900          450\n",
      "靜宜大學          靜宜大學          950          480\n",
      "真理大學          真理大學          750          380\n"
     ]
    }
   ],
   "source": [
    "#建立教職類表格\n",
    "\n",
    "original_columns = [\"111學年度專任教師數\",\"111學年度兼任教師數\"]\n",
    "\n",
    "index = [\"國立政治大學\", \"國立清華大學\", \"國立臺灣大學\", \"國立臺灣師範大學\",\n",
    "         \"國立成功大學\", \"國立中興大學\", \"國立中正大學\", \"國立高雄師範大學\",\n",
    "         \"國立彰化師範大學\", \"國立東華大學\", \"國立聯合大學\", \"國立臺中教育大學\",\n",
    "         \"靜宜大學\", \"真理大學\"]\n",
    "\n",
    "# 得到的數據，到時候一個一個填進去(先隨機亂數填入)\n",
    "data = [\n",
    "    [1000, 500],\n",
    "    [1200, 600],\n",
    "    [800, 400],\n",
    "    [900, 450],\n",
    "    [1100, 550],\n",
    "    [950, 480],\n",
    "    [1000, 490],\n",
    "    [800, 400],\n",
    "    [700, 350],\n",
    "    [1200, 600],\n",
    "    [1100, 5505],\n",
    "    [900, 450],\n",
    "    [950, 480],\n",
    "    [750, 380],\n",
    "]\n",
    "\n",
    "df1 = pd.DataFrame(data, columns=original_columns, index=index)\n",
    "\n",
    "new_column_values = [\"國立政治大學\", \"國立清華大學\", \"國立臺灣大學\", \"國立臺灣師範大學\",\n",
    "                     \"國立成功大學\", \"國立中興大學\", \"國立中正大學\", \"國立高雄師範大學\",\n",
    "                     \"國立彰化師範大學\", \"國立東華大學\", \"國立聯合大學\", \"國立臺中教育大學\",\n",
    "                     \"靜宜大學\", \"真理大學\"]\n",
    "\n",
    "# 在 DataFrame 左側插入新列\n",
    "df1.insert(loc=0, column=\"學校名稱\", value=new_column_values)\n",
    "\n",
    "# 輸出结果\n",
    "print(df1)"
   ]
  },
  {
   "cell_type": "code",
   "execution_count": 119,
   "id": "32ba2ebe",
   "metadata": {},
   "outputs": [],
   "source": [
    "#先存成CSV檔看看是否格式正確\n",
    "df1.to_csv('output3.csv', index=False, encoding='utf-8-sig')"
   ]
  },
  {
   "cell_type": "code",
   "execution_count": 120,
   "id": "f6624ae3",
   "metadata": {
    "scrolled": true
   },
   "outputs": [
    {
     "name": "stdout",
     "output_type": "stream",
     "text": [
      "\n",
      "\n",
      "\n",
      "\n",
      "\n",
      "\n",
      "\n",
      "\n",
      "\n",
      "\n",
      "\n",
      "\n",
      "\n",
      "\n",
      "\n",
      "\n",
      "\n",
      "\n",
      "\n",
      "\n",
      "\n",
      "\n",
      "\n",
      "教師數：6 人\n",
      "教師數：4 人\n",
      "教師數：1 人\n"
     ]
    }
   ],
   "source": [
    "#抓取國立政治大學的教職類資料\n",
    "#(因為\"教職類\"按鈕點選之後網址不會更變，表示網頁中的內容是透過按鈕點選後使用JavaScript動態載入，可能需要模擬按鈕點擊事件並等待動態載入完成。\n",
    "#如果按鈕點擊後的內容是透過 API 取得的，需要使用 Python 的 requests 模組來模擬 API 請求，並解析返回的 JSON 數據。)\n",
    "import requests\n",
    "from selenium import webdriver\n",
    "from selenium.webdriver.common.by import By\n",
    "from selenium.webdriver.support.ui import WebDriverWait\n",
    "from selenium.webdriver.support import expected_conditions as EC\n",
    "path = r'C:\\Users\\Evan\\Downloads\\anaconda\\chromedriver-win64\\chromedriver.exe'\n",
    "url = \"https://udb.moe.edu.tw/udata/StatCardList/ISCED/000012CE619D/0001/%E5%9C%8B%E7%AB%8B%E6%94%BF%E6%B2%BB%E5%A4%A7%E5%AD%B8/02321/%E8%87%BA%E7%81%A3%E8%AA%9E%E6%96%87\"\n",
    "service=Service(executable_path=path)\n",
    "service\n",
    "# 使用 Chrome 開啟瀏覽器\n",
    "driver=webdriver.Chrome(service=service)\n",
    "# 前往目標網站\n",
    "driver.get(url)\n",
    "try:\n",
    "    # 使用等待機制等到 \"教職類\" 按鈕出現\n",
    "    button = WebDriverWait(driver, 10).until(\n",
    "        EC.presence_of_element_located((By.XPATH, '//a[@data-toggle=\"pill\" and @href=\"#Teacher_List\"]'))\n",
    "    )\n",
    "\n",
    "    # 模擬點擊 \"教職類\" 按鈕\n",
    "    button.click()\n",
    "    \n",
    "    #等待5秒讓網頁載入完成\n",
    "    time.sleep(5)\n",
    "    \n",
    "    # 使用等待機制等到符合條件的元素出現\n",
    "    elements = WebDriverWait(driver, 10).until(\n",
    "        EC.presence_of_all_elements_located((By.CLASS_NAME, 'fs-3'))\n",
    "    )\n",
    "\n",
    "    # 使用 for 迴圈處理每個元素\n",
    "    for element in elements:\n",
    "        try:\n",
    "            # 取得文字內容\n",
    "            text = element.text\n",
    "            # 輸出文字內容\n",
    "            print(text)\n",
    "        except Exception as e:\n",
    "            print(f\"Error while getting text: {e}\")\n",
    "\n",
    "except Exception as e:\n",
    "    print(f\"Error: {e}\")\n",
    "finally:\n",
    "    # 關閉瀏覽器\n",
    "    driver.quit()"
   ]
  },
  {
   "cell_type": "code",
   "execution_count": 121,
   "id": "9f7f8174",
   "metadata": {
    "scrolled": true
   },
   "outputs": [
    {
     "name": "stdout",
     "output_type": "stream",
     "text": [
      "              學校名稱  111學年度專任教師數  111學年度兼任教師數\n",
      "國立政治大學      國立政治大學            6            4\n",
      "國立清華大學      國立清華大學         1200          600\n",
      "國立臺灣大學      國立臺灣大學          800          400\n",
      "國立臺灣師範大學  國立臺灣師範大學          900          450\n",
      "國立成功大學      國立成功大學         1100          550\n",
      "國立中興大學      國立中興大學          950          480\n",
      "國立中正大學      國立中正大學         1000          490\n",
      "國立高雄師範大學  國立高雄師範大學          800          400\n",
      "國立彰化師範大學  國立彰化師範大學          700          350\n",
      "國立東華大學      國立東華大學         1200          600\n",
      "國立聯合大學      國立聯合大學         1100         5505\n",
      "國立臺中教育大學  國立臺中教育大學          900          450\n",
      "靜宜大學          靜宜大學          950          480\n",
      "真理大學          真理大學          750          380\n"
     ]
    }
   ],
   "source": [
    "# 修改國立政治大學的111學年度專任教師數、111學年度兼任教師數\n",
    "#\"111學年度專任教師數\"是第1條，\"111學年度兼任教師數\"是第2條\n",
    "df1.at[\"國立政治大學\", \"111學年度專任教師數\"] = 6\n",
    "df1.at[\"國立政治大學\", \"111學年度兼任教師數\"] = 4\n",
    "\n",
    "# 輸出修改後的表格\n",
    "print(df1)"
   ]
  },
  {
   "cell_type": "code",
   "execution_count": 124,
   "id": "c8dddaf4",
   "metadata": {
    "scrolled": true
   },
   "outputs": [
    {
     "name": "stdout",
     "output_type": "stream",
     "text": [
      "學生數：140 人\n",
      "畢業生數：17 人\n",
      "取得輔系資格：0 人\n",
      "取得雙主修資格：0 人\n",
      "學生數：14 人\n",
      "學生數：2 人\n",
      "僑生：2 人\n",
      "港澳生：2 人\n",
      "學生數：8 人\n",
      "畢業境外生：1 人\n",
      "上學期：3 人次\n",
      "下學期：3 人次\n",
      "總計：42 人\n",
      "上學期：8 人\n",
      "下學期：5 人\n",
      "寒假實習：1 人次\n",
      "暑期實習：70 人次\n",
      "全學期/單一學期：77 人次\n",
      "學期期間實習：84 人次\n",
      "全學年實習：41 人\n",
      "\n",
      "\n"
     ]
    }
   ],
   "source": [
    "#抓取國立清華大學的學生類資料\n",
    "# 設定 WebDriver 的路徑，這裡以 Chrome 為例\n",
    "path = r'C:\\Users\\Evan\\Downloads\\anaconda\\chromedriver-win64\\chromedriver.exe'\n",
    "url='https://udb.moe.edu.tw/udata/StatCardList/ISCED/000012CE619E/0002/%E5%9C%8B%E7%AB%8B%E6%B8%85%E8%8F%AF%E5%A4%A7%E5%AD%B8/02321/%E8%87%BA%E7%81%A3%E8%AA%9E%E6%96%87'\n",
    "service=Service(executable_path=path)\n",
    "service\n",
    "# 使用 Chrome 開啟瀏覽器\n",
    "driver=webdriver.Chrome(service=service)\n",
    "\n",
    "# 前往目標網站\n",
    "driver.get(url)\n",
    "\n",
    "#等待10秒讓網站載入完成\n",
    "time.sleep(10)\n",
    "\n",
    "#函式化\n",
    "def search_student():\n",
    "    try:\n",
    "        # 使用Selenium的定位方法找到所有符合條件的元素\n",
    "        elements = driver.find_elements(By.CLASS_NAME, 'fs-3')\n",
    "\n",
    "        # 使用 for 迴圈處理每個元素\n",
    "        for i in range(0, len(elements)):  # 從索引0開始\n",
    "            try:\n",
    "                # 取得文字內容\n",
    "                text = elements[i].text\n",
    "                # 輸出文字內容\n",
    "                print(text)\n",
    "            except Exception as e:\n",
    "                print(f\"Error while getting text: {e}\")\n",
    "\n",
    "    except NoSuchElementException as e:\n",
    "        print(f\"Element not found: {e}\")\n",
    "\n",
    "    finally:\n",
    "        # 關閉瀏覽器\n",
    "        driver.quit()\n",
    "    \n",
    "search_student()"
   ]
  },
  {
   "cell_type": "code",
   "execution_count": 125,
   "id": "86224cd8",
   "metadata": {},
   "outputs": [
    {
     "name": "stdout",
     "output_type": "stream",
     "text": [
      "273\n"
     ]
    }
   ],
   "source": [
    "#計算國立清華大學的110學年度學生實習數總數\n",
    "student_internship=1+70+77+84+41\n",
    "print(student_internship)"
   ]
  },
  {
   "cell_type": "code",
   "execution_count": 126,
   "id": "6cd6e3ee",
   "metadata": {
    "scrolled": true
   },
   "outputs": [
    {
     "name": "stdout",
     "output_type": "stream",
     "text": [
      "              學校名稱  111學年度在學學生數  110學年度畢業生數  111學年度境外學位生數  110學年度休學人數  \\\n",
      "國立政治大學      國立政治大學           50           9             5          15   \n",
      "國立清華大學      國立清華大學          140          17            14          42   \n",
      "國立臺灣大學      國立臺灣大學          800         400            40          80   \n",
      "國立臺灣師範大學  國立臺灣師範大學          900         450            45          90   \n",
      "國立成功大學      國立成功大學         1100         550            55         110   \n",
      "國立中興大學      國立中興大學          950         480            48          95   \n",
      "國立中正大學      國立中正大學         1000         490            49          98   \n",
      "國立高雄師範大學  國立高雄師範大學          800         400            40          80   \n",
      "國立彰化師範大學  國立彰化師範大學          700         350            35          70   \n",
      "國立東華大學      國立東華大學         1200         600            60         120   \n",
      "國立聯合大學      國立聯合大學         1100         550            55         110   \n",
      "國立臺中教育大學  國立臺中教育大學          900         450            45          90   \n",
      "靜宜大學          靜宜大學          950         480            48          95   \n",
      "真理大學          真理大學          750         380            38          75   \n",
      "\n",
      "          110學年度退學人數  110學年度學生實習數  \n",
      "國立政治大學             8          203  \n",
      "國立清華大學            13          273  \n",
      "國立臺灣大學            15           25  \n",
      "國立臺灣師範大學          18           28  \n",
      "國立成功大學            22           32  \n",
      "國立中興大學            19           29  \n",
      "國立中正大學            20           30  \n",
      "國立高雄師範大學          15           25  \n",
      "國立彰化師範大學          14           22  \n",
      "國立東華大學            25           35  \n",
      "國立聯合大學            22           32  \n",
      "國立臺中教育大學          18           28  \n",
      "靜宜大學              19           29  \n",
      "真理大學              16           26  \n"
     ]
    }
   ],
   "source": [
    "# 修改國立清華大學的111學年度在學學生數、110學年度畢業生數、111學年度境外學位生數、110學年度休學人數、110學年度退學人數、110學年度學生實習數\n",
    "#\"111學年度在學學生數\"是第1條，\"110學年度畢業生數\"是第2條，\"111學年度境外學位生數\"是第5條，\"110學年度休學人數\"是倒數第8條，\n",
    "#\"110學年度退學人數\"是倒數第7與第6條加總，\"110學年度學生實習數\"是倒數第5條到最後1條的總和\n",
    "df.at[\"國立清華大學\", \"111學年度在學學生數\"] = 140\n",
    "df.at[\"國立清華大學\", \"110學年度畢業生數\"] = 17\n",
    "df.at[\"國立清華大學\", \"111學年度境外學位生數\"] = 14\n",
    "df.at[\"國立清華大學\", \"110學年度休學人數\"] = 42\n",
    "df.at[\"國立清華大學\", \"110學年度退學人數\"] = 13\n",
    "df.at[\"國立清華大學\", \"110學年度學生實習數\"] = 273\n",
    "\n",
    "# 輸出修改後的表格\n",
    "print(df)"
   ]
  },
  {
   "cell_type": "code",
   "execution_count": 128,
   "id": "508a835f",
   "metadata": {
    "scrolled": true
   },
   "outputs": [
    {
     "name": "stdout",
     "output_type": "stream",
     "text": [
      "\n",
      "\n",
      "\n",
      "\n",
      "\n",
      "\n",
      "\n",
      "\n",
      "\n",
      "\n",
      "\n",
      "\n",
      "\n",
      "\n",
      "\n",
      "\n",
      "\n",
      "\n",
      "\n",
      "\n",
      "教師數：16 人\n",
      "教師數：10 人\n"
     ]
    }
   ],
   "source": [
    "#抓取國立清華大學的教職類資料\n",
    "path = r'C:\\Users\\Evan\\Downloads\\anaconda\\chromedriver-win64\\chromedriver.exe'\n",
    "url='https://udb.moe.edu.tw/udata/StatCardList/ISCED/000012CE619E/0002/%E5%9C%8B%E7%AB%8B%E6%B8%85%E8%8F%AF%E5%A4%A7%E5%AD%B8/02321/%E8%87%BA%E7%81%A3%E8%AA%9E%E6%96%87'\n",
    "service=Service(executable_path=path)\n",
    "service\n",
    "# 使用 Chrome 開啟瀏覽器\n",
    "driver=webdriver.Chrome(service=service)\n",
    "# 前往目標網站\n",
    "driver.get(url)\n",
    "#函式化\n",
    "def search_teacher():\n",
    "    try:\n",
    "        # 使用等待機制等到 \"教職類\" 按鈕出現\n",
    "        button = WebDriverWait(driver, 10).until(\n",
    "            EC.presence_of_element_located((By.XPATH, '//a[@data-toggle=\"pill\" and @href=\"#Teacher_List\"]'))\n",
    "        )\n",
    "\n",
    "        # 模擬點擊 \"教職類\" 按鈕\n",
    "        button.click()\n",
    "\n",
    "        #等待5秒讓網頁載入完成\n",
    "        time.sleep(5)\n",
    "\n",
    "        # 使用等待機制等到符合條件的元素出現\n",
    "        elements = WebDriverWait(driver, 15).until(\n",
    "            EC.presence_of_all_elements_located((By.CLASS_NAME, 'fs-3'))\n",
    "        )\n",
    "\n",
    "        # 使用 for 迴圈處理每個元素\n",
    "        for element in elements:\n",
    "            try:\n",
    "                # 取得文字內容\n",
    "                text = element.text\n",
    "                # 輸出文字內容\n",
    "                print(text)\n",
    "            except Exception as e:\n",
    "                print(f\"Error while getting text: {e}\")\n",
    "\n",
    "    except Exception as e:\n",
    "        print(f\"Error: {e}\")\n",
    "\n",
    "    finally:\n",
    "        # 關閉瀏覽器\n",
    "        driver.quit()\n",
    "        \n",
    "search_teacher()"
   ]
  },
  {
   "cell_type": "code",
   "execution_count": 129,
   "id": "ee906b23",
   "metadata": {
    "scrolled": true
   },
   "outputs": [
    {
     "name": "stdout",
     "output_type": "stream",
     "text": [
      "              學校名稱  111學年度專任教師數  111學年度兼任教師數\n",
      "國立政治大學      國立政治大學            6            4\n",
      "國立清華大學      國立清華大學           16           10\n",
      "國立臺灣大學      國立臺灣大學          800          400\n",
      "國立臺灣師範大學  國立臺灣師範大學          900          450\n",
      "國立成功大學      國立成功大學         1100          550\n",
      "國立中興大學      國立中興大學          950          480\n",
      "國立中正大學      國立中正大學         1000          490\n",
      "國立高雄師範大學  國立高雄師範大學          800          400\n",
      "國立彰化師範大學  國立彰化師範大學          700          350\n",
      "國立東華大學      國立東華大學         1200          600\n",
      "國立聯合大學      國立聯合大學         1100         5505\n",
      "國立臺中教育大學  國立臺中教育大學          900          450\n",
      "靜宜大學          靜宜大學          950          480\n",
      "真理大學          真理大學          750          380\n"
     ]
    }
   ],
   "source": [
    "# 修改國立清華大學的111學年度專任教師數、111學年度兼任教師數\n",
    "#\"111學年度專任教師數\"是第1條，\"111學年度兼任教師數\"是第2條\n",
    "df1.at[\"國立清華大學\", \"111學年度專任教師數\"] = 16\n",
    "df1.at[\"國立清華大學\", \"111學年度兼任教師數\"] = 10\n",
    "\n",
    "# 輸出修改後的表格\n",
    "print(df1)"
   ]
  },
  {
   "cell_type": "code",
   "execution_count": 133,
   "id": "f7180c98",
   "metadata": {
    "scrolled": true
   },
   "outputs": [
    {
     "name": "stdout",
     "output_type": "stream",
     "text": [
      "學生數：64 人\n",
      "畢業生數：6 人\n",
      "取得輔系資格：0 人\n",
      "取得雙主修資格：0 人\n",
      "學生數：5 人\n",
      "學生數：2 人\n",
      "僑生：0 人\n",
      "港澳生：3 人\n",
      "學生數：0 人\n",
      "畢業境外生：2 人\n",
      "上學期至少1學期(修讀學分)以上：0 人\n",
      "上學期未滿1學期(修讀學分)：0 人\n",
      "下學期至少1學期(修讀學分)以上：0 人\n",
      "下學期未滿1學期(修讀學分)：0 人\n",
      "上學期：2 人次\n",
      "下學期：5 人次\n",
      "總計：15 人\n",
      "上學期：1 人\n",
      "下學期：1 人\n",
      "寒假實習：5 人次\n",
      "暑期實習：385 人次\n",
      "全學期/單一學期：471 人次\n",
      "學期期間實習：787 人次\n",
      "全學年實習：380 人\n",
      "\n",
      "\n"
     ]
    }
   ],
   "source": [
    "#抓取國立臺灣大學的學生類資料\n",
    "\n",
    "# 設定 WebDriver 的路徑，這裡以 Chrome 為例\n",
    "path = r'C:\\Users\\Evan\\Downloads\\anaconda\\chromedriver-win64\\chromedriver.exe'\n",
    "url='https://udb.moe.edu.tw/udata/StatCardList/ISCED/000012CE619F/0003/%E5%9C%8B%E7%AB%8B%E8%87%BA%E7%81%A3%E5%A4%A7%E5%AD%B8/02321/%E8%87%BA%E7%81%A3%E8%AA%9E%E6%96%87'\n",
    "service=Service(executable_path=path)\n",
    "service\n",
    "# 使用 Chrome 開啟瀏覽器\n",
    "driver=webdriver.Chrome(service=service)\n",
    "\n",
    "# 前往目標網站\n",
    "driver.get(url)\n",
    "\n",
    "#等待10秒讓網站載入完成\n",
    "time.sleep(10)\n",
    "\n",
    "search_student()"
   ]
  },
  {
   "cell_type": "code",
   "execution_count": 134,
   "id": "9a87e190",
   "metadata": {},
   "outputs": [
    {
     "name": "stdout",
     "output_type": "stream",
     "text": [
      "2028\n"
     ]
    }
   ],
   "source": [
    "#計算國立臺灣大學的110學年度學生實習數總數\n",
    "student_internship=5+385+471+787+380\n",
    "print(student_internship)"
   ]
  },
  {
   "cell_type": "code",
   "execution_count": 135,
   "id": "1d5ba2ff",
   "metadata": {
    "scrolled": true
   },
   "outputs": [
    {
     "name": "stdout",
     "output_type": "stream",
     "text": [
      "              學校名稱  111學年度在學學生數  110學年度畢業生數  111學年度境外學位生數  110學年度休學人數  \\\n",
      "國立政治大學      國立政治大學           50           9             5          15   \n",
      "國立清華大學      國立清華大學          140          17            14          42   \n",
      "國立臺灣大學      國立臺灣大學           64           6             5          15   \n",
      "國立臺灣師範大學  國立臺灣師範大學          900         450            45          90   \n",
      "國立成功大學      國立成功大學         1100         550            55         110   \n",
      "國立中興大學      國立中興大學          950         480            48          95   \n",
      "國立中正大學      國立中正大學         1000         490            49          98   \n",
      "國立高雄師範大學  國立高雄師範大學          800         400            40          80   \n",
      "國立彰化師範大學  國立彰化師範大學          700         350            35          70   \n",
      "國立東華大學      國立東華大學         1200         600            60         120   \n",
      "國立聯合大學      國立聯合大學         1100         550            55         110   \n",
      "國立臺中教育大學  國立臺中教育大學          900         450            45          90   \n",
      "靜宜大學          靜宜大學          950         480            48          95   \n",
      "真理大學          真理大學          750         380            38          75   \n",
      "\n",
      "          110學年度退學人數  110學年度學生實習數  \n",
      "國立政治大學             8          203  \n",
      "國立清華大學            13          273  \n",
      "國立臺灣大學             2         2028  \n",
      "國立臺灣師範大學          18           28  \n",
      "國立成功大學            22           32  \n",
      "國立中興大學            19           29  \n",
      "國立中正大學            20           30  \n",
      "國立高雄師範大學          15           25  \n",
      "國立彰化師範大學          14           22  \n",
      "國立東華大學            25           35  \n",
      "國立聯合大學            22           32  \n",
      "國立臺中教育大學          18           28  \n",
      "靜宜大學              19           29  \n",
      "真理大學              16           26  \n"
     ]
    }
   ],
   "source": [
    "# 修改國立臺灣大學的111學年度在學學生數、110學年度畢業生數、111學年度境外學位生數、110學年度休學人數、110學年度退學人數、110學年度學生實習數\n",
    "#\"111學年度在學學生數\"是第1條，\"110學年度畢業生數\"是第2條，\"111學年度境外學位生數\"是第5條，\"110學年度休學人數\"是倒數第8條，\n",
    "#\"110學年度退學人數\"是倒數第7與第6條加總，\"110學年度學生實習數\"是倒數第5條到最後1條的總和\n",
    "df.at[\"國立臺灣大學\", \"111學年度在學學生數\"] = 64\n",
    "df.at[\"國立臺灣大學\", \"110學年度畢業生數\"] = 6\n",
    "df.at[\"國立臺灣大學\", \"111學年度境外學位生數\"] = 5\n",
    "df.at[\"國立臺灣大學\", \"110學年度休學人數\"] = 15\n",
    "df.at[\"國立臺灣大學\", \"110學年度退學人數\"] = 2\n",
    "df.at[\"國立臺灣大學\", \"110學年度學生實習數\"] = 2028\n",
    "\n",
    "# 輸出修改後的表格\n",
    "print(df)"
   ]
  },
  {
   "cell_type": "code",
   "execution_count": 136,
   "id": "e66fc682",
   "metadata": {
    "scrolled": true
   },
   "outputs": [
    {
     "name": "stdout",
     "output_type": "stream",
     "text": [
      "\n",
      "\n",
      "\n",
      "\n",
      "\n",
      "\n",
      "\n",
      "\n",
      "\n",
      "\n",
      "\n",
      "\n",
      "\n",
      "\n",
      "\n",
      "\n",
      "\n",
      "\n",
      "\n",
      "\n",
      "\n",
      "\n",
      "\n",
      "\n",
      "教師數：7 人\n",
      "教師數：2 人\n"
     ]
    }
   ],
   "source": [
    "#抓取國立臺灣大學的教職類資料\n",
    "\n",
    "path = r'C:\\Users\\Evan\\Downloads\\anaconda\\chromedriver-win64\\chromedriver.exe'\n",
    "url='https://udb.moe.edu.tw/udata/StatCardList/ISCED/000012CE619F/0003/%E5%9C%8B%E7%AB%8B%E8%87%BA%E7%81%A3%E5%A4%A7%E5%AD%B8/02321/%E8%87%BA%E7%81%A3%E8%AA%9E%E6%96%87'\n",
    "service=Service(executable_path=path)\n",
    "service\n",
    "# 使用 Chrome 開啟瀏覽器\n",
    "driver=webdriver.Chrome(service=service)\n",
    "\n",
    "# 前往目標網站\n",
    "driver.get(url)\n",
    "\n",
    "search_teacher()"
   ]
  },
  {
   "cell_type": "code",
   "execution_count": 137,
   "id": "85fe49fb",
   "metadata": {
    "scrolled": true
   },
   "outputs": [
    {
     "name": "stdout",
     "output_type": "stream",
     "text": [
      "              學校名稱  111學年度專任教師數  111學年度兼任教師數\n",
      "國立政治大學      國立政治大學            6            4\n",
      "國立清華大學      國立清華大學           16           10\n",
      "國立臺灣大學      國立臺灣大學            7            2\n",
      "國立臺灣師範大學  國立臺灣師範大學          900          450\n",
      "國立成功大學      國立成功大學         1100          550\n",
      "國立中興大學      國立中興大學          950          480\n",
      "國立中正大學      國立中正大學         1000          490\n",
      "國立高雄師範大學  國立高雄師範大學          800          400\n",
      "國立彰化師範大學  國立彰化師範大學          700          350\n",
      "國立東華大學      國立東華大學         1200          600\n",
      "國立聯合大學      國立聯合大學         1100         5505\n",
      "國立臺中教育大學  國立臺中教育大學          900          450\n",
      "靜宜大學          靜宜大學          950          480\n",
      "真理大學          真理大學          750          380\n"
     ]
    }
   ],
   "source": [
    "# 修改國立臺灣大學的111學年度專任教師數、111學年度兼任教師數\n",
    "#\"111學年度專任教師數\"是第1條，\"111學年度兼任教師數\"是第2條\n",
    "df1.at[\"國立臺灣大學\", \"111學年度專任教師數\"] = 7\n",
    "df1.at[\"國立臺灣大學\", \"111學年度兼任教師數\"] = 2\n",
    "\n",
    "# 輸出修改後的表格\n",
    "print(df1)"
   ]
  },
  {
   "cell_type": "code",
   "execution_count": 138,
   "id": "9193c158",
   "metadata": {
    "scrolled": true
   },
   "outputs": [
    {
     "name": "stdout",
     "output_type": "stream",
     "text": [
      "學生數：184 人\n",
      "畢業生數：31 人\n",
      "取得輔系資格：0 人\n",
      "取得雙主修資格：1 人\n",
      "學生數：29 人\n",
      "學生數：12 人\n",
      "僑生：9 人\n",
      "港澳生：8 人\n",
      "學生數：0 人\n",
      "畢業境外生：2 人\n",
      "學生數：17 人\n",
      "上學期至少1學期(修讀學分)以上：0 人\n",
      "上學期未滿1學期(修讀學分)：0 人\n",
      "下學期至少1學期(修讀學分)以上：0 人\n",
      "下學期未滿1學期(修讀學分)：0 人\n",
      "上學期：16 人次\n",
      "下學期：30 人次\n",
      "上學期：5 人次\n",
      "下學期：3 人次\n",
      "上學期：15 人次\n",
      "下學期：11 人次\n",
      "總計：26 人\n",
      "上學期：6 人\n",
      "下學期：3 人\n",
      "寒假實習：0 人次\n",
      "暑期實習：403 人次\n",
      "全學期/單一學期：1 人次\n",
      "學期期間實習：233 人次\n",
      "全學年實習：8 人\n",
      "\n",
      "\n",
      "\n"
     ]
    }
   ],
   "source": [
    "#抓取國立臺灣師範大學的學生類資料\n",
    "\n",
    "# 設定 WebDriver 的路徑，這裡以 Chrome 為例\n",
    "path = r'C:\\Users\\Evan\\Downloads\\anaconda\\chromedriver-win64\\chromedriver.exe'\n",
    "url='https://udb.moe.edu.tw/udata/StatCardList/ISCED/000012CE61A0/0004/%E5%9C%8B%E7%AB%8B%E8%87%BA%E7%81%A3%E5%B8%AB%E7%AF%84%E5%A4%A7%E5%AD%B8/02321/%E8%87%BA%E7%81%A3%E8%AA%9E%E6%96%87'\n",
    "service=Service(executable_path=path)\n",
    "service\n",
    "# 使用 Chrome 開啟瀏覽器\n",
    "driver=webdriver.Chrome(service=service)\n",
    "\n",
    "# 前往目標網站\n",
    "driver.get(url)\n",
    "\n",
    "#等待10秒讓網站載入完成\n",
    "time.sleep(10)\n",
    "\n",
    "search_student()"
   ]
  },
  {
   "cell_type": "code",
   "execution_count": 139,
   "id": "e4baa0c4",
   "metadata": {},
   "outputs": [
    {
     "name": "stdout",
     "output_type": "stream",
     "text": [
      "645\n"
     ]
    }
   ],
   "source": [
    "#計算國立臺灣師範大學的110學年度學生實習數總數\n",
    "student_internship=0+403+1+233+8\n",
    "print(student_internship)"
   ]
  },
  {
   "cell_type": "code",
   "execution_count": 140,
   "id": "8f6b6edb",
   "metadata": {
    "scrolled": true
   },
   "outputs": [
    {
     "name": "stdout",
     "output_type": "stream",
     "text": [
      "              學校名稱  111學年度在學學生數  110學年度畢業生數  111學年度境外學位生數  110學年度休學人數  \\\n",
      "國立政治大學      國立政治大學           50           9             5          15   \n",
      "國立清華大學      國立清華大學          140          17            14          42   \n",
      "國立臺灣大學      國立臺灣大學           64           6             5          15   \n",
      "國立臺灣師範大學  國立臺灣師範大學          184          31            29          26   \n",
      "國立成功大學      國立成功大學         1100         550            55         110   \n",
      "國立中興大學      國立中興大學          950         480            48          95   \n",
      "國立中正大學      國立中正大學         1000         490            49          98   \n",
      "國立高雄師範大學  國立高雄師範大學          800         400            40          80   \n",
      "國立彰化師範大學  國立彰化師範大學          700         350            35          70   \n",
      "國立東華大學      國立東華大學         1200         600            60         120   \n",
      "國立聯合大學      國立聯合大學         1100         550            55         110   \n",
      "國立臺中教育大學  國立臺中教育大學          900         450            45          90   \n",
      "靜宜大學          靜宜大學          950         480            48          95   \n",
      "真理大學          真理大學          750         380            38          75   \n",
      "\n",
      "          110學年度退學人數  110學年度學生實習數  \n",
      "國立政治大學             8          203  \n",
      "國立清華大學            13          273  \n",
      "國立臺灣大學             2         2028  \n",
      "國立臺灣師範大學           9          645  \n",
      "國立成功大學            22           32  \n",
      "國立中興大學            19           29  \n",
      "國立中正大學            20           30  \n",
      "國立高雄師範大學          15           25  \n",
      "國立彰化師範大學          14           22  \n",
      "國立東華大學            25           35  \n",
      "國立聯合大學            22           32  \n",
      "國立臺中教育大學          18           28  \n",
      "靜宜大學              19           29  \n",
      "真理大學              16           26  \n"
     ]
    }
   ],
   "source": [
    "# 修改國立臺灣師範大學的111學年度在學學生數、110學年度畢業生數、111學年度境外學位生數、110學年度休學人數、110學年度退學人數、110學年度學生實習數\n",
    "#\"111學年度在學學生數\"是第1條，\"110學年度畢業生數\"是第2條，\"111學年度境外學位生數\"是第5條，\"110學年度休學人數\"是倒數第8條，\n",
    "#\"110學年度退學人數\"是倒數第7與第6條加總，\"110學年度學生實習數\"是倒數第5條到最後1條的總和\n",
    "df.at[\"國立臺灣師範大學\", \"111學年度在學學生數\"] = 184\n",
    "df.at[\"國立臺灣師範大學\", \"110學年度畢業生數\"] = 31\n",
    "df.at[\"國立臺灣師範大學\", \"111學年度境外學位生數\"] = 29\n",
    "df.at[\"國立臺灣師範大學\", \"110學年度休學人數\"] = 26\n",
    "df.at[\"國立臺灣師範大學\", \"110學年度退學人數\"] = 9\n",
    "df.at[\"國立臺灣師範大學\", \"110學年度學生實習數\"] = 645\n",
    "\n",
    "# 輸出修改後的表格\n",
    "print(df)"
   ]
  },
  {
   "cell_type": "code",
   "execution_count": 141,
   "id": "b9f2baca",
   "metadata": {
    "scrolled": true
   },
   "outputs": [
    {
     "name": "stdout",
     "output_type": "stream",
     "text": [
      "\n",
      "\n",
      "\n",
      "\n",
      "\n",
      "\n",
      "\n",
      "\n",
      "\n",
      "\n",
      "\n",
      "\n",
      "\n",
      "\n",
      "\n",
      "\n",
      "\n",
      "\n",
      "\n",
      "\n",
      "\n",
      "\n",
      "\n",
      "\n",
      "\n",
      "\n",
      "\n",
      "\n",
      "\n",
      "教師數：12 人\n",
      "教師數：5 人\n",
      "教師數：2 人\n"
     ]
    }
   ],
   "source": [
    "#抓取國立臺灣師範大學的教職類資料\n",
    "\n",
    "path = r'C:\\Users\\Evan\\Downloads\\anaconda\\chromedriver-win64\\chromedriver.exe'\n",
    "url='https://udb.moe.edu.tw/udata/StatCardList/ISCED/000012CE61A0/0004/%E5%9C%8B%E7%AB%8B%E8%87%BA%E7%81%A3%E5%B8%AB%E7%AF%84%E5%A4%A7%E5%AD%B8/02321/%E8%87%BA%E7%81%A3%E8%AA%9E%E6%96%87'\n",
    "service=Service(executable_path=path)\n",
    "service\n",
    "# 使用 Chrome 開啟瀏覽器\n",
    "driver=webdriver.Chrome(service=service)\n",
    "\n",
    "# 前往目標網站\n",
    "driver.get(url)\n",
    "\n",
    "search_teacher()"
   ]
  },
  {
   "cell_type": "code",
   "execution_count": 142,
   "id": "0b235577",
   "metadata": {},
   "outputs": [
    {
     "name": "stdout",
     "output_type": "stream",
     "text": [
      "              學校名稱  111學年度專任教師數  111學年度兼任教師數\n",
      "國立政治大學      國立政治大學            6            4\n",
      "國立清華大學      國立清華大學           16           10\n",
      "國立臺灣大學      國立臺灣大學            7            2\n",
      "國立臺灣師範大學  國立臺灣師範大學           12            5\n",
      "國立成功大學      國立成功大學         1100          550\n",
      "國立中興大學      國立中興大學          950          480\n",
      "國立中正大學      國立中正大學         1000          490\n",
      "國立高雄師範大學  國立高雄師範大學          800          400\n",
      "國立彰化師範大學  國立彰化師範大學          700          350\n",
      "國立東華大學      國立東華大學         1200          600\n",
      "國立聯合大學      國立聯合大學         1100         5505\n",
      "國立臺中教育大學  國立臺中教育大學          900          450\n",
      "靜宜大學          靜宜大學          950          480\n",
      "真理大學          真理大學          750          380\n"
     ]
    }
   ],
   "source": [
    "# 修改國立臺灣師範大學的111學年度專任教師數、111學年度兼任教師數\n",
    "#\"111學年度專任教師數\"是第1條，\"111學年度兼任教師數\"是第2條\n",
    "df1.at[\"國立臺灣師範大學\", \"111學年度專任教師數\"] = 12\n",
    "df1.at[\"國立臺灣師範大學\", \"111學年度兼任教師數\"] = 5\n",
    "\n",
    "# 輸出修改後的表格\n",
    "print(df1)"
   ]
  },
  {
   "cell_type": "code",
   "execution_count": 143,
   "id": "ab7f9c06",
   "metadata": {
    "scrolled": true
   },
   "outputs": [
    {
     "name": "stdout",
     "output_type": "stream",
     "text": [
      "學生數：278 人\n",
      "畢業生數：38 人\n",
      "取得輔系資格：2 人\n",
      "取得雙主修資格：3 人\n",
      "學生數：30 人\n",
      "學生數：17 人\n",
      "僑生：5 人\n",
      "港澳生：8 人\n",
      "學生數：0 人\n",
      "畢業境外生：0 人\n",
      "學生數：12 人\n",
      "上學期至少1學期(修讀學分)以上：1 人\n",
      "上學期未滿1學期(修讀學分)：0 人\n",
      "下學期至少1學期(修讀學分)以上：1 人\n",
      "下學期未滿1學期(修讀學分)：0 人\n",
      "上學期：4 人次\n",
      "下學期：4 人次\n",
      "上學期：15 人次\n",
      "下學期：14 人次\n",
      "上學期：20 人次\n",
      "下學期：17 人次\n",
      "總計：32 人\n",
      "上學期：12 人\n",
      "下學期：9 人\n",
      "寒假實習：52 人次\n",
      "暑期實習：282 人次\n",
      "全學期/單一學期：347 人次\n",
      "學期期間實習：965 人次\n",
      "全學年實習：192 人\n",
      "\n",
      "\n"
     ]
    }
   ],
   "source": [
    "#抓取國立成功大學的學生類資料\n",
    "\n",
    "# 設定 WebDriver 的路徑，這裡以 Chrome 為例\n",
    "path = r'C:\\Users\\Evan\\Downloads\\anaconda\\chromedriver-win64\\chromedriver.exe'\n",
    "url='https://udb.moe.edu.tw/udata/StatCardList/ISCED/000012CE61A1/0005/%E5%9C%8B%E7%AB%8B%E6%88%90%E5%8A%9F%E5%A4%A7%E5%AD%B8/02321/%E8%87%BA%E7%81%A3%E8%AA%9E%E6%96%87'\n",
    "service=Service(executable_path=path)\n",
    "service\n",
    "# 使用 Chrome 開啟瀏覽器\n",
    "driver=webdriver.Chrome(service=service)\n",
    "\n",
    "# 前往目標網站\n",
    "driver.get(url)\n",
    "\n",
    "#等待10秒讓網站載入完成\n",
    "time.sleep(10)\n",
    "\n",
    "search_student()"
   ]
  },
  {
   "cell_type": "code",
   "execution_count": 144,
   "id": "cb75abad",
   "metadata": {},
   "outputs": [
    {
     "name": "stdout",
     "output_type": "stream",
     "text": [
      "1838\n"
     ]
    }
   ],
   "source": [
    "#計算國立成功大學的110學年度學生實習數總數\n",
    "student_internship=52+282+347+965+192\n",
    "print(student_internship)"
   ]
  },
  {
   "cell_type": "code",
   "execution_count": 145,
   "id": "9541165d",
   "metadata": {
    "scrolled": true
   },
   "outputs": [
    {
     "name": "stdout",
     "output_type": "stream",
     "text": [
      "              學校名稱  111學年度在學學生數  110學年度畢業生數  111學年度境外學位生數  110學年度休學人數  \\\n",
      "國立政治大學      國立政治大學           50           9             5          15   \n",
      "國立清華大學      國立清華大學          140          17            14          42   \n",
      "國立臺灣大學      國立臺灣大學           64           6             5          15   \n",
      "國立臺灣師範大學  國立臺灣師範大學          184          31            29          26   \n",
      "國立成功大學      國立成功大學          278          38            30          32   \n",
      "國立中興大學      國立中興大學          950         480            48          95   \n",
      "國立中正大學      國立中正大學         1000         490            49          98   \n",
      "國立高雄師範大學  國立高雄師範大學          800         400            40          80   \n",
      "國立彰化師範大學  國立彰化師範大學          700         350            35          70   \n",
      "國立東華大學      國立東華大學         1200         600            60         120   \n",
      "國立聯合大學      國立聯合大學         1100         550            55         110   \n",
      "國立臺中教育大學  國立臺中教育大學          900         450            45          90   \n",
      "靜宜大學          靜宜大學          950         480            48          95   \n",
      "真理大學          真理大學          750         380            38          75   \n",
      "\n",
      "          110學年度退學人數  110學年度學生實習數  \n",
      "國立政治大學             8          203  \n",
      "國立清華大學            13          273  \n",
      "國立臺灣大學             2         2028  \n",
      "國立臺灣師範大學           9          645  \n",
      "國立成功大學            21         1838  \n",
      "國立中興大學            19           29  \n",
      "國立中正大學            20           30  \n",
      "國立高雄師範大學          15           25  \n",
      "國立彰化師範大學          14           22  \n",
      "國立東華大學            25           35  \n",
      "國立聯合大學            22           32  \n",
      "國立臺中教育大學          18           28  \n",
      "靜宜大學              19           29  \n",
      "真理大學              16           26  \n"
     ]
    }
   ],
   "source": [
    "# 修改國立成功大學的111學年度在學學生數、110學年度畢業生數、111學年度境外學位生數、110學年度休學人數、110學年度退學人數、110學年度學生實習數\n",
    "#\"111學年度在學學生數\"是第1條，\"110學年度畢業生數\"是第2條，\"111學年度境外學位生數\"是第5條，\"110學年度休學人數\"是倒數第8條，\n",
    "#\"110學年度退學人數\"是倒數第7與第6條加總，\"110學年度學生實習數\"是倒數第5條到最後1條的總和\n",
    "df.at[\"國立成功大學\", \"111學年度在學學生數\"] = 278\n",
    "df.at[\"國立成功大學\", \"110學年度畢業生數\"] = 38\n",
    "df.at[\"國立成功大學\", \"111學年度境外學位生數\"] = 30\n",
    "df.at[\"國立成功大學\", \"110學年度休學人數\"] = 32\n",
    "df.at[\"國立成功大學\", \"110學年度退學人數\"] = 21\n",
    "df.at[\"國立成功大學\", \"110學年度學生實習數\"] = 1838\n",
    "\n",
    "# 輸出修改後的表格\n",
    "print(df)"
   ]
  },
  {
   "cell_type": "code",
   "execution_count": 146,
   "id": "dc879ba3",
   "metadata": {
    "scrolled": true
   },
   "outputs": [
    {
     "name": "stdout",
     "output_type": "stream",
     "text": [
      "\n",
      "\n",
      "\n",
      "\n",
      "\n",
      "\n",
      "\n",
      "\n",
      "\n",
      "\n",
      "\n",
      "\n",
      "\n",
      "\n",
      "\n",
      "\n",
      "\n",
      "\n",
      "\n",
      "\n",
      "\n",
      "\n",
      "\n",
      "\n",
      "\n",
      "\n",
      "\n",
      "\n",
      "\n",
      "教師數：16 人\n",
      "教師數：17 人\n"
     ]
    }
   ],
   "source": [
    "#抓取國立成功大學的教職類資料\n",
    "\n",
    "path = r'C:\\Users\\Evan\\Downloads\\anaconda\\chromedriver-win64\\chromedriver.exe'\n",
    "url='https://udb.moe.edu.tw/udata/StatCardList/ISCED/000012CE61A1/0005/%E5%9C%8B%E7%AB%8B%E6%88%90%E5%8A%9F%E5%A4%A7%E5%AD%B8/02321/%E8%87%BA%E7%81%A3%E8%AA%9E%E6%96%87'\n",
    "service=Service(executable_path=path)\n",
    "service\n",
    "# 使用 Chrome 開啟瀏覽器\n",
    "driver=webdriver.Chrome(service=service)\n",
    "\n",
    "# 前往目標網站\n",
    "driver.get(url)\n",
    "\n",
    "search_teacher()"
   ]
  },
  {
   "cell_type": "code",
   "execution_count": 147,
   "id": "99b2e839",
   "metadata": {},
   "outputs": [
    {
     "name": "stdout",
     "output_type": "stream",
     "text": [
      "              學校名稱  111學年度專任教師數  111學年度兼任教師數\n",
      "國立政治大學      國立政治大學            6            4\n",
      "國立清華大學      國立清華大學           16           10\n",
      "國立臺灣大學      國立臺灣大學            7            2\n",
      "國立臺灣師範大學  國立臺灣師範大學           12            5\n",
      "國立成功大學      國立成功大學           16           17\n",
      "國立中興大學      國立中興大學          950          480\n",
      "國立中正大學      國立中正大學         1000          490\n",
      "國立高雄師範大學  國立高雄師範大學          800          400\n",
      "國立彰化師範大學  國立彰化師範大學          700          350\n",
      "國立東華大學      國立東華大學         1200          600\n",
      "國立聯合大學      國立聯合大學         1100         5505\n",
      "國立臺中教育大學  國立臺中教育大學          900          450\n",
      "靜宜大學          靜宜大學          950          480\n",
      "真理大學          真理大學          750          380\n"
     ]
    }
   ],
   "source": [
    "# 修改國立成功大學的111學年度專任教師數、111學年度兼任教師數\n",
    "#\"111學年度專任教師數\"是第1條，\"111學年度兼任教師數\"是第2條\n",
    "df1.at[\"國立成功大學\", \"111學年度專任教師數\"] = 16\n",
    "df1.at[\"國立成功大學\", \"111學年度兼任教師數\"] = 17\n",
    "\n",
    "# 輸出修改後的表格\n",
    "print(df1)"
   ]
  },
  {
   "cell_type": "code",
   "execution_count": 148,
   "id": "325dc27d",
   "metadata": {
    "scrolled": true
   },
   "outputs": [
    {
     "name": "stdout",
     "output_type": "stream",
     "text": [
      "學生數：125 人\n",
      "畢業生數：11 人\n",
      "取得輔系資格：0 人\n",
      "取得雙主修資格：0 人\n",
      "學生數：12 人\n",
      "學生數：9 人\n",
      "僑生：1 人\n",
      "港澳生：2 人\n",
      "畢業境外生：2 人\n",
      "下學期至少1學期(修讀學分)以上：0 人\n",
      "下學期未滿1學期(修讀學分)：0 人\n",
      "上學期：0 人次\n",
      "下學期：1 人次\n",
      "下學期：2 人次\n",
      "下學期：4 人次\n",
      "總計：23 人\n",
      "上學期：9 人\n",
      "下學期：9 人\n",
      "寒假實習：44 人次\n",
      "暑期實習：212 人次\n",
      "全學期/單一學期：0 人次\n",
      "學期期間實習：37 人次\n",
      "全學年實習：88 人\n",
      "\n",
      "\n",
      "\n",
      "\n",
      "\n"
     ]
    }
   ],
   "source": [
    "#抓取國立中興大學的學生類資料\n",
    "\n",
    "# 設定 WebDriver 的路徑，這裡以 Chrome 為例\n",
    "path = r'C:\\Users\\Evan\\Downloads\\anaconda\\chromedriver-win64\\chromedriver.exe'\n",
    "url='https://udb.moe.edu.tw/udata/StatCardList/ISCED/000012CE61A2/0006/%E5%9C%8B%E7%AB%8B%E4%B8%AD%E8%88%88%E5%A4%A7%E5%AD%B8/02321/%E8%87%BA%E7%81%A3%E8%AA%9E%E6%96%87'\n",
    "service=Service(executable_path=path)\n",
    "service\n",
    "# 使用 Chrome 開啟瀏覽器\n",
    "driver=webdriver.Chrome(service=service)\n",
    "\n",
    "# 前往目標網站\n",
    "driver.get(url)\n",
    "\n",
    "#等待10秒讓網站載入完成\n",
    "time.sleep(10)\n",
    "\n",
    "search_student()"
   ]
  },
  {
   "cell_type": "code",
   "execution_count": 149,
   "id": "2f58d1fc",
   "metadata": {},
   "outputs": [
    {
     "name": "stdout",
     "output_type": "stream",
     "text": [
      "381\n"
     ]
    }
   ],
   "source": [
    "#計算國立中興大學的110學年度學生實習數總數\n",
    "student_internship=44+212+0+37+88\n",
    "print(student_internship)"
   ]
  },
  {
   "cell_type": "code",
   "execution_count": 150,
   "id": "f68be403",
   "metadata": {
    "scrolled": true
   },
   "outputs": [
    {
     "name": "stdout",
     "output_type": "stream",
     "text": [
      "              學校名稱  111學年度在學學生數  110學年度畢業生數  111學年度境外學位生數  110學年度休學人數  \\\n",
      "國立政治大學      國立政治大學           50           9             5          15   \n",
      "國立清華大學      國立清華大學          140          17            14          42   \n",
      "國立臺灣大學      國立臺灣大學           64           6             5          15   \n",
      "國立臺灣師範大學  國立臺灣師範大學          184          31            29          26   \n",
      "國立成功大學      國立成功大學          278          38            30          32   \n",
      "國立中興大學      國立中興大學          125          11            12          23   \n",
      "國立中正大學      國立中正大學         1000         490            49          98   \n",
      "國立高雄師範大學  國立高雄師範大學          800         400            40          80   \n",
      "國立彰化師範大學  國立彰化師範大學          700         350            35          70   \n",
      "國立東華大學      國立東華大學         1200         600            60         120   \n",
      "國立聯合大學      國立聯合大學         1100         550            55         110   \n",
      "國立臺中教育大學  國立臺中教育大學          900         450            45          90   \n",
      "靜宜大學          靜宜大學          950         480            48          95   \n",
      "真理大學          真理大學          750         380            38          75   \n",
      "\n",
      "          110學年度退學人數  110學年度學生實習數  \n",
      "國立政治大學             8          203  \n",
      "國立清華大學            13          273  \n",
      "國立臺灣大學             2         2028  \n",
      "國立臺灣師範大學           9          645  \n",
      "國立成功大學            21         1838  \n",
      "國立中興大學            18          381  \n",
      "國立中正大學            20           30  \n",
      "國立高雄師範大學          15           25  \n",
      "國立彰化師範大學          14           22  \n",
      "國立東華大學            25           35  \n",
      "國立聯合大學            22           32  \n",
      "國立臺中教育大學          18           28  \n",
      "靜宜大學              19           29  \n",
      "真理大學              16           26  \n"
     ]
    }
   ],
   "source": [
    "# 修改國立中興大學的111學年度在學學生數、110學年度畢業生數、111學年度境外學位生數、110學年度休學人數、110學年度退學人數、110學年度學生實習數\n",
    "#\"111學年度在學學生數\"是第1條，\"110學年度畢業生數\"是第2條，\"111學年度境外學位生數\"是第5條，\"110學年度休學人數\"是倒數第8條，\n",
    "#\"110學年度退學人數\"是倒數第7與第6條加總，\"110學年度學生實習數\"是倒數第5條到最後1條的總和\n",
    "df.at[\"國立中興大學\", \"111學年度在學學生數\"] = 125\n",
    "df.at[\"國立中興大學\", \"110學年度畢業生數\"] = 11\n",
    "df.at[\"國立中興大學\", \"111學年度境外學位生數\"] = 12\n",
    "df.at[\"國立中興大學\", \"110學年度休學人數\"] = 23\n",
    "df.at[\"國立中興大學\", \"110學年度退學人數\"] = 18\n",
    "df.at[\"國立中興大學\", \"110學年度學生實習數\"] = 381\n",
    "\n",
    "# 輸出修改後的表格\n",
    "print(df)"
   ]
  },
  {
   "cell_type": "code",
   "execution_count": 151,
   "id": "2d5e1126",
   "metadata": {
    "scrolled": true
   },
   "outputs": [
    {
     "name": "stdout",
     "output_type": "stream",
     "text": [
      "\n",
      "\n",
      "\n",
      "\n",
      "\n",
      "\n",
      "\n",
      "\n",
      "\n",
      "\n",
      "\n",
      "\n",
      "\n",
      "\n",
      "\n",
      "\n",
      "\n",
      "\n",
      "\n",
      "\n",
      "\n",
      "教師數：11 人\n",
      "教師數：5 人\n",
      "教師數：2 人\n",
      "\n",
      "\n"
     ]
    }
   ],
   "source": [
    "#抓取國立中興大學的教職類資料\n",
    "\n",
    "path = r'C:\\Users\\Evan\\Downloads\\anaconda\\chromedriver-win64\\chromedriver.exe'\n",
    "url='https://udb.moe.edu.tw/udata/StatCardList/ISCED/000012CE61A2/0006/%E5%9C%8B%E7%AB%8B%E4%B8%AD%E8%88%88%E5%A4%A7%E5%AD%B8/02321/%E8%87%BA%E7%81%A3%E8%AA%9E%E6%96%87'\n",
    "service=Service(executable_path=path)\n",
    "service\n",
    "# 使用 Chrome 開啟瀏覽器\n",
    "driver=webdriver.Chrome(service=service)\n",
    "\n",
    "# 前往目標網站\n",
    "driver.get(url)\n",
    "\n",
    "search_teacher()"
   ]
  },
  {
   "cell_type": "code",
   "execution_count": 152,
   "id": "4a88f937",
   "metadata": {},
   "outputs": [
    {
     "name": "stdout",
     "output_type": "stream",
     "text": [
      "              學校名稱  111學年度專任教師數  111學年度兼任教師數\n",
      "國立政治大學      國立政治大學            6            4\n",
      "國立清華大學      國立清華大學           16           10\n",
      "國立臺灣大學      國立臺灣大學            7            2\n",
      "國立臺灣師範大學  國立臺灣師範大學           12            5\n",
      "國立成功大學      國立成功大學           16           17\n",
      "國立中興大學      國立中興大學           11            5\n",
      "國立中正大學      國立中正大學         1000          490\n",
      "國立高雄師範大學  國立高雄師範大學          800          400\n",
      "國立彰化師範大學  國立彰化師範大學          700          350\n",
      "國立東華大學      國立東華大學         1200          600\n",
      "國立聯合大學      國立聯合大學         1100         5505\n",
      "國立臺中教育大學  國立臺中教育大學          900          450\n",
      "靜宜大學          靜宜大學          950          480\n",
      "真理大學          真理大學          750          380\n"
     ]
    }
   ],
   "source": [
    "# 修改國立中興大學的111學年度專任教師數、111學年度兼任教師數\n",
    "#\"111學年度專任教師數\"是第1條，\"111學年度兼任教師數\"是第2條\n",
    "df1.at[\"國立中興大學\", \"111學年度專任教師數\"] = 11\n",
    "df1.at[\"國立中興大學\", \"111學年度兼任教師數\"] = 5\n",
    "\n",
    "# 輸出修改後的表格\n",
    "print(df1)"
   ]
  },
  {
   "cell_type": "code",
   "execution_count": 153,
   "id": "87aa45d3",
   "metadata": {
    "scrolled": true
   },
   "outputs": [
    {
     "name": "stdout",
     "output_type": "stream",
     "text": [
      "學生數：74 人\n",
      "畢業生數：13 人\n",
      "取得輔系資格：0 人\n",
      "取得雙主修資格：0 人\n",
      "學生數：1 人\n",
      "僑生：0 人\n",
      "港澳生：1 人\n",
      "上學期：0 人次\n",
      "下學期：0 人次\n",
      "總計：23 人\n",
      "上學期：3 人\n",
      "下學期：4 人\n",
      "寒假實習：0 人次\n",
      "暑期實習：158 人次\n",
      "全學期/單一學期：44 人次\n",
      "學期期間實習：43 人次\n",
      "全學年實習：23 人\n",
      "\n",
      "\n"
     ]
    }
   ],
   "source": [
    "#抓取國立中正大學的學生類資料\n",
    "\n",
    "# 設定 WebDriver 的路徑，這裡以 Chrome 為例\n",
    "path = r'C:\\Users\\Evan\\Downloads\\anaconda\\chromedriver-win64\\chromedriver.exe'\n",
    "url='https://udb.moe.edu.tw/udata/StatCardList/ISCED/000012CE61A7/0013/%E5%9C%8B%E7%AB%8B%E4%B8%AD%E6%AD%A3%E5%A4%A7%E5%AD%B8/02321/%E8%87%BA%E7%81%A3%E8%AA%9E%E6%96%87'\n",
    "service=Service(executable_path=path)\n",
    "service\n",
    "# 使用 Chrome 開啟瀏覽器\n",
    "driver=webdriver.Chrome(service=service)\n",
    "\n",
    "# 前往目標網站\n",
    "driver.get(url)\n",
    "\n",
    "#等待10秒讓網站載入完成\n",
    "time.sleep(10)\n",
    "\n",
    "search_student()"
   ]
  },
  {
   "cell_type": "code",
   "execution_count": 154,
   "id": "40ef473c",
   "metadata": {},
   "outputs": [
    {
     "name": "stdout",
     "output_type": "stream",
     "text": [
      "268\n"
     ]
    }
   ],
   "source": [
    "#計算國立中正大學的110學年度學生實習數總數\n",
    "student_internship=158+44+43+23\n",
    "print(student_internship)"
   ]
  },
  {
   "cell_type": "code",
   "execution_count": 155,
   "id": "01de02b4",
   "metadata": {
    "scrolled": true
   },
   "outputs": [
    {
     "name": "stdout",
     "output_type": "stream",
     "text": [
      "              學校名稱  111學年度在學學生數  110學年度畢業生數  111學年度境外學位生數  110學年度休學人數  \\\n",
      "國立政治大學      國立政治大學           50           9             5          15   \n",
      "國立清華大學      國立清華大學          140          17            14          42   \n",
      "國立臺灣大學      國立臺灣大學           64           6             5          15   \n",
      "國立臺灣師範大學  國立臺灣師範大學          184          31            29          26   \n",
      "國立成功大學      國立成功大學          278          38            30          32   \n",
      "國立中興大學      國立中興大學          125          11            12          23   \n",
      "國立中正大學      國立中正大學           74          13             1          23   \n",
      "國立高雄師範大學  國立高雄師範大學          800         400            40          80   \n",
      "國立彰化師範大學  國立彰化師範大學          700         350            35          70   \n",
      "國立東華大學      國立東華大學         1200         600            60         120   \n",
      "國立聯合大學      國立聯合大學         1100         550            55         110   \n",
      "國立臺中教育大學  國立臺中教育大學          900         450            45          90   \n",
      "靜宜大學          靜宜大學          950         480            48          95   \n",
      "真理大學          真理大學          750         380            38          75   \n",
      "\n",
      "          110學年度退學人數  110學年度學生實習數  \n",
      "國立政治大學             8          203  \n",
      "國立清華大學            13          273  \n",
      "國立臺灣大學             2         2028  \n",
      "國立臺灣師範大學           9          645  \n",
      "國立成功大學            21         1838  \n",
      "國立中興大學            18          381  \n",
      "國立中正大學             7          268  \n",
      "國立高雄師範大學          15           25  \n",
      "國立彰化師範大學          14           22  \n",
      "國立東華大學            25           35  \n",
      "國立聯合大學            22           32  \n",
      "國立臺中教育大學          18           28  \n",
      "靜宜大學              19           29  \n",
      "真理大學              16           26  \n"
     ]
    }
   ],
   "source": [
    "# 修改國立中正大學的111學年度在學學生數、110學年度畢業生數、111學年度境外學位生數、110學年度休學人數、110學年度退學人數、110學年度學生實習數\n",
    "#\"111學年度在學學生數\"是第1條，\"110學年度畢業生數\"是第2條，\"111學年度境外學位生數\"是第5條，\"110學年度休學人數\"是倒數第8條，\n",
    "#\"110學年度退學人數\"是倒數第7與第6條加總，\"110學年度學生實習數\"是倒數第5條到最後1條的總和\n",
    "df.at[\"國立中正大學\", \"111學年度在學學生數\"] = 74\n",
    "df.at[\"國立中正大學\", \"110學年度畢業生數\"] = 13\n",
    "df.at[\"國立中正大學\", \"111學年度境外學位生數\"] = 1\n",
    "df.at[\"國立中正大學\", \"110學年度休學人數\"] = 23\n",
    "df.at[\"國立中正大學\", \"110學年度退學人數\"] = 7\n",
    "df.at[\"國立中正大學\", \"110學年度學生實習數\"] = 268\n",
    "\n",
    "# 輸出修改後的表格\n",
    "print(df)"
   ]
  },
  {
   "cell_type": "code",
   "execution_count": 156,
   "id": "3b243198",
   "metadata": {
    "scrolled": true
   },
   "outputs": [
    {
     "name": "stdout",
     "output_type": "stream",
     "text": [
      "\n",
      "\n",
      "\n",
      "\n",
      "\n",
      "\n",
      "\n",
      "\n",
      "\n",
      "\n",
      "\n",
      "\n",
      "\n",
      "\n",
      "\n",
      "\n",
      "\n",
      "教師數：5 人\n",
      "教師數：3 人\n"
     ]
    }
   ],
   "source": [
    "#抓取國立中正大學的教職類資料\n",
    "\n",
    "path = r'C:\\Users\\Evan\\Downloads\\anaconda\\chromedriver-win64\\chromedriver.exe'\n",
    "url='https://udb.moe.edu.tw/udata/StatCardList/ISCED/000012CE61A7/0013/%E5%9C%8B%E7%AB%8B%E4%B8%AD%E6%AD%A3%E5%A4%A7%E5%AD%B8/02321/%E8%87%BA%E7%81%A3%E8%AA%9E%E6%96%87'\n",
    "service=Service(executable_path=path)\n",
    "service\n",
    "# 使用 Chrome 開啟瀏覽器\n",
    "driver=webdriver.Chrome(service=service)\n",
    "\n",
    "# 前往目標網站\n",
    "driver.get(url)\n",
    "\n",
    "search_teacher()"
   ]
  },
  {
   "cell_type": "code",
   "execution_count": 157,
   "id": "eb3b87af",
   "metadata": {},
   "outputs": [
    {
     "name": "stdout",
     "output_type": "stream",
     "text": [
      "              學校名稱  111學年度專任教師數  111學年度兼任教師數\n",
      "國立政治大學      國立政治大學            6            4\n",
      "國立清華大學      國立清華大學           16           10\n",
      "國立臺灣大學      國立臺灣大學            7            2\n",
      "國立臺灣師範大學  國立臺灣師範大學           12            5\n",
      "國立成功大學      國立成功大學           16           17\n",
      "國立中興大學      國立中興大學           11            5\n",
      "國立中正大學      國立中正大學            5            3\n",
      "國立高雄師範大學  國立高雄師範大學          800          400\n",
      "國立彰化師範大學  國立彰化師範大學          700          350\n",
      "國立東華大學      國立東華大學         1200          600\n",
      "國立聯合大學      國立聯合大學         1100         5505\n",
      "國立臺中教育大學  國立臺中教育大學          900          450\n",
      "靜宜大學          靜宜大學          950          480\n",
      "真理大學          真理大學          750          380\n"
     ]
    }
   ],
   "source": [
    "# 修改國立中正大學的111學年度專任教師數、111學年度兼任教師數\n",
    "#\"111學年度專任教師數\"是第1條，\"111學年度兼任教師數\"是第2條\n",
    "df1.at[\"國立中正大學\", \"111學年度專任教師數\"] = 5\n",
    "df1.at[\"國立中正大學\", \"111學年度兼任教師數\"] = 3\n",
    "\n",
    "# 輸出修改後的表格\n",
    "print(df1)"
   ]
  },
  {
   "cell_type": "code",
   "execution_count": 158,
   "id": "3b116fb4",
   "metadata": {
    "scrolled": true
   },
   "outputs": [
    {
     "name": "stdout",
     "output_type": "stream",
     "text": [
      "學生數：201 人\n",
      "畢業生數：11 人\n",
      "取得輔系資格：0 人\n",
      "取得雙主修資格：0 人\n",
      "學生數：4 人\n",
      "學生數：2 人\n",
      "僑生：2 人\n",
      "港澳生：0 人\n",
      "下學期至少1學期(修讀學分)以上：0 人\n",
      "下學期未滿1學期(修讀學分)：0 人\n",
      "上學期：2 人次\n",
      "下學期：1 人次\n",
      "上學期：7 人次\n",
      "下學期：7 人次\n",
      "總計：40 人\n",
      "上學期：10 人\n",
      "下學期：5 人\n",
      "寒假實習：6 人次\n",
      "暑期實習：55 人次\n",
      "全學期/單一學期：41 人次\n",
      "學期期間實習：98 人次\n",
      "全學年實習：31 人\n",
      "\n",
      "\n"
     ]
    }
   ],
   "source": [
    "#抓取國立高雄師範大學的學生類資料\n",
    "\n",
    "# 設定 WebDriver 的路徑，這裡以 Chrome 為例\n",
    "path = r'C:\\Users\\Evan\\Downloads\\anaconda\\chromedriver-win64\\chromedriver.exe'\n",
    "url='https://udb.moe.edu.tw/udata/StatCardList/ISCED/000012CE61A8/0014/%E5%9C%8B%E7%AB%8B%E9%AB%98%E9%9B%84%E5%B8%AB%E7%AF%84%E5%A4%A7%E5%AD%B8/02321/%E8%87%BA%E7%81%A3%E8%AA%9E%E6%96%87'\n",
    "service=Service(executable_path=path)\n",
    "service\n",
    "# 使用 Chrome 開啟瀏覽器\n",
    "driver=webdriver.Chrome(service=service)\n",
    "\n",
    "# 前往目標網站\n",
    "driver.get(url)\n",
    "\n",
    "#等待10秒讓網站載入完成\n",
    "time.sleep(10)\n",
    "\n",
    "search_student()"
   ]
  },
  {
   "cell_type": "code",
   "execution_count": 159,
   "id": "a889a0f0",
   "metadata": {},
   "outputs": [
    {
     "name": "stdout",
     "output_type": "stream",
     "text": [
      "231\n"
     ]
    }
   ],
   "source": [
    "#計算國立高雄師範大學的110學年度學生實習數總數\n",
    "student_internship=6+55+41+98+31\n",
    "print(student_internship)"
   ]
  },
  {
   "cell_type": "code",
   "execution_count": 160,
   "id": "1b2bb529",
   "metadata": {
    "scrolled": true
   },
   "outputs": [
    {
     "name": "stdout",
     "output_type": "stream",
     "text": [
      "              學校名稱  111學年度在學學生數  110學年度畢業生數  111學年度境外學位生數  110學年度休學人數  \\\n",
      "國立政治大學      國立政治大學           50           9             5          15   \n",
      "國立清華大學      國立清華大學          140          17            14          42   \n",
      "國立臺灣大學      國立臺灣大學           64           6             5          15   \n",
      "國立臺灣師範大學  國立臺灣師範大學          184          31            29          26   \n",
      "國立成功大學      國立成功大學          278          38            30          32   \n",
      "國立中興大學      國立中興大學          125          11            12          23   \n",
      "國立中正大學      國立中正大學           74          13             1          23   \n",
      "國立高雄師範大學  國立高雄師範大學          201          11             4          40   \n",
      "國立彰化師範大學  國立彰化師範大學          700         350            35          70   \n",
      "國立東華大學      國立東華大學         1200         600            60         120   \n",
      "國立聯合大學      國立聯合大學         1100         550            55         110   \n",
      "國立臺中教育大學  國立臺中教育大學          900         450            45          90   \n",
      "靜宜大學          靜宜大學          950         480            48          95   \n",
      "真理大學          真理大學          750         380            38          75   \n",
      "\n",
      "          110學年度退學人數  110學年度學生實習數  \n",
      "國立政治大學             8          203  \n",
      "國立清華大學            13          273  \n",
      "國立臺灣大學             2         2028  \n",
      "國立臺灣師範大學           9          645  \n",
      "國立成功大學            21         1838  \n",
      "國立中興大學            18          381  \n",
      "國立中正大學             7          268  \n",
      "國立高雄師範大學          15          231  \n",
      "國立彰化師範大學          14           22  \n",
      "國立東華大學            25           35  \n",
      "國立聯合大學            22           32  \n",
      "國立臺中教育大學          18           28  \n",
      "靜宜大學              19           29  \n",
      "真理大學              16           26  \n"
     ]
    }
   ],
   "source": [
    "# 修改國立高雄師範大學的111學年度在學學生數、110學年度畢業生數、111學年度境外學位生數、110學年度休學人數、110學年度退學人數、110學年度學生實習數\n",
    "#\"111學年度在學學生數\"是第1條，\"110學年度畢業生數\"是第2條，\"111學年度境外學位生數\"是第5條，\"110學年度休學人數\"是倒數第8條，\n",
    "#\"110學年度退學人數\"是倒數第7與第6條加總，\"110學年度學生實習數\"是倒數第5條到最後1條的總和\n",
    "df.at[\"國立高雄師範大學\", \"111學年度在學學生數\"] = 201\n",
    "df.at[\"國立高雄師範大學\", \"110學年度畢業生數\"] = 11\n",
    "df.at[\"國立高雄師範大學\", \"111學年度境外學位生數\"] = 4\n",
    "df.at[\"國立高雄師範大學\", \"110學年度休學人數\"] = 40\n",
    "df.at[\"國立高雄師範大學\", \"110學年度退學人數\"] = 15\n",
    "df.at[\"國立高雄師範大學\", \"110學年度學生實習數\"] = 231\n",
    "\n",
    "# 輸出修改後的表格\n",
    "print(df)"
   ]
  },
  {
   "cell_type": "code",
   "execution_count": 161,
   "id": "740a9749",
   "metadata": {
    "scrolled": true
   },
   "outputs": [
    {
     "name": "stdout",
     "output_type": "stream",
     "text": [
      "\n",
      "\n",
      "\n",
      "\n",
      "\n",
      "\n",
      "\n",
      "\n",
      "\n",
      "\n",
      "\n",
      "\n",
      "\n",
      "\n",
      "\n",
      "\n",
      "\n",
      "\n",
      "\n",
      "\n",
      "\n",
      "\n",
      "教師數：9 人\n",
      "教師數：11 人\n"
     ]
    }
   ],
   "source": [
    "#抓取國立高雄師範大學的教職類資料\n",
    "\n",
    "path = r'C:\\Users\\Evan\\Downloads\\anaconda\\chromedriver-win64\\chromedriver.exe'\n",
    "url='https://udb.moe.edu.tw/udata/StatCardList/ISCED/000012CE61A8/0014/%E5%9C%8B%E7%AB%8B%E9%AB%98%E9%9B%84%E5%B8%AB%E7%AF%84%E5%A4%A7%E5%AD%B8/02321/%E8%87%BA%E7%81%A3%E8%AA%9E%E6%96%87'\n",
    "service=Service(executable_path=path)\n",
    "service\n",
    "# 使用 Chrome 開啟瀏覽器\n",
    "driver=webdriver.Chrome(service=service)\n",
    "\n",
    "# 前往目標網站\n",
    "driver.get(url)\n",
    "\n",
    "search_teacher()"
   ]
  },
  {
   "cell_type": "code",
   "execution_count": 162,
   "id": "cb3bdf2f",
   "metadata": {},
   "outputs": [
    {
     "name": "stdout",
     "output_type": "stream",
     "text": [
      "              學校名稱  111學年度專任教師數  111學年度兼任教師數\n",
      "國立政治大學      國立政治大學            6            4\n",
      "國立清華大學      國立清華大學           16           10\n",
      "國立臺灣大學      國立臺灣大學            7            2\n",
      "國立臺灣師範大學  國立臺灣師範大學           12            5\n",
      "國立成功大學      國立成功大學           16           17\n",
      "國立中興大學      國立中興大學           11            5\n",
      "國立中正大學      國立中正大學            5            3\n",
      "國立高雄師範大學  國立高雄師範大學            9           11\n",
      "國立彰化師範大學  國立彰化師範大學          700          350\n",
      "國立東華大學      國立東華大學         1200          600\n",
      "國立聯合大學      國立聯合大學         1100         5505\n",
      "國立臺中教育大學  國立臺中教育大學          900          450\n",
      "靜宜大學          靜宜大學          950          480\n",
      "真理大學          真理大學          750          380\n"
     ]
    }
   ],
   "source": [
    "# 修改國立高雄師範大學的111學年度專任教師數、111學年度兼任教師數\n",
    "#\"111學年度專任教師數\"是第1條，\"111學年度兼任教師數\"是第2條\n",
    "df1.at[\"國立高雄師範大學\", \"111學年度專任教師數\"] = 9\n",
    "df1.at[\"國立高雄師範大學\", \"111學年度兼任教師數\"] = 11\n",
    "\n",
    "# 輸出修改後的表格\n",
    "print(df1)"
   ]
  },
  {
   "cell_type": "code",
   "execution_count": 163,
   "id": "97920814",
   "metadata": {
    "scrolled": true
   },
   "outputs": [
    {
     "name": "stdout",
     "output_type": "stream",
     "text": [
      "學生數：27 人\n",
      "畢業生數：2 人\n",
      "取得輔系資格：0 人\n",
      "取得雙主修資格：0 人\n",
      "學生數：0 人\n",
      "下學期至少1學期(修讀學分)以上：0 人\n",
      "下學期未滿1學期(修讀學分)：0 人\n",
      "總計：14 人\n",
      "上學期：5 人\n",
      "下學期：0 人\n",
      "寒假實習：0 人次\n",
      "暑期實習：35 人次\n",
      "全學期/單一學期：35 人次\n",
      "學期期間實習：26 人次\n",
      "全學年實習：39 人\n",
      "\n",
      "\n"
     ]
    }
   ],
   "source": [
    "#抓取國立彰化師範大學的學生類資料\n",
    "\n",
    "# 設定 WebDriver 的路徑，這裡以 Chrome 為例\n",
    "path = r'C:\\Users\\Evan\\Downloads\\anaconda\\chromedriver-win64\\chromedriver.exe'\n",
    "url='https://udb.moe.edu.tw/udata/StatCardList/ISCED/000012CE61A9/0015/%E5%9C%8B%E7%AB%8B%E5%BD%B0%E5%8C%96%E5%B8%AB%E7%AF%84%E5%A4%A7%E5%AD%B8/02321/%E8%87%BA%E7%81%A3%E8%AA%9E%E6%96%87'\n",
    "service=Service(executable_path=path)\n",
    "service\n",
    "# 使用 Chrome 開啟瀏覽器\n",
    "driver=webdriver.Chrome(service=service)\n",
    "\n",
    "# 前往目標網站\n",
    "driver.get(url)\n",
    "\n",
    "#等待10秒讓網站載入完成\n",
    "time.sleep(10)\n",
    "\n",
    "search_student()"
   ]
  },
  {
   "cell_type": "code",
   "execution_count": 164,
   "id": "4bd93c69",
   "metadata": {},
   "outputs": [
    {
     "name": "stdout",
     "output_type": "stream",
     "text": [
      "135\n"
     ]
    }
   ],
   "source": [
    "#計算國立彰化師範大學的110學年度學生實習數總數\n",
    "student_internship=35+35+26+39\n",
    "print(student_internship)"
   ]
  },
  {
   "cell_type": "code",
   "execution_count": 165,
   "id": "733daf9c",
   "metadata": {
    "scrolled": true
   },
   "outputs": [
    {
     "name": "stdout",
     "output_type": "stream",
     "text": [
      "              學校名稱  111學年度在學學生數  110學年度畢業生數  111學年度境外學位生數  110學年度休學人數  \\\n",
      "國立政治大學      國立政治大學           50           9             5          15   \n",
      "國立清華大學      國立清華大學          140          17            14          42   \n",
      "國立臺灣大學      國立臺灣大學           64           6             5          15   \n",
      "國立臺灣師範大學  國立臺灣師範大學          184          31            29          26   \n",
      "國立成功大學      國立成功大學          278          38            30          32   \n",
      "國立中興大學      國立中興大學          125          11            12          23   \n",
      "國立中正大學      國立中正大學           74          13             1          23   \n",
      "國立高雄師範大學  國立高雄師範大學          201          11             4          40   \n",
      "國立彰化師範大學  國立彰化師範大學           27           2             0          14   \n",
      "國立東華大學      國立東華大學         1200         600            60         120   \n",
      "國立聯合大學      國立聯合大學         1100         550            55         110   \n",
      "國立臺中教育大學  國立臺中教育大學          900         450            45          90   \n",
      "靜宜大學          靜宜大學          950         480            48          95   \n",
      "真理大學          真理大學          750         380            38          75   \n",
      "\n",
      "          110學年度退學人數  110學年度學生實習數  \n",
      "國立政治大學             8          203  \n",
      "國立清華大學            13          273  \n",
      "國立臺灣大學             2         2028  \n",
      "國立臺灣師範大學           9          645  \n",
      "國立成功大學            21         1838  \n",
      "國立中興大學            18          381  \n",
      "國立中正大學             7          268  \n",
      "國立高雄師範大學          15          231  \n",
      "國立彰化師範大學           5          135  \n",
      "國立東華大學            25           35  \n",
      "國立聯合大學            22           32  \n",
      "國立臺中教育大學          18           28  \n",
      "靜宜大學              19           29  \n",
      "真理大學              16           26  \n"
     ]
    }
   ],
   "source": [
    "# 修改國立彰化師範大學的111學年度在學學生數、110學年度畢業生數、111學年度境外學位生數、110學年度休學人數、110學年度退學人數、110學年度學生實習數\n",
    "#\"111學年度在學學生數\"是第1條，\"110學年度畢業生數\"是第2條，\"111學年度境外學位生數\"是第5條，\"110學年度休學人數\"是倒數第8條，\n",
    "#\"110學年度退學人數\"是倒數第7與第6條加總，\"110學年度學生實習數\"是倒數第5條到最後1條的總和\n",
    "df.at[\"國立彰化師範大學\", \"111學年度在學學生數\"] = 27\n",
    "df.at[\"國立彰化師範大學\", \"110學年度畢業生數\"] = 2\n",
    "df.at[\"國立彰化師範大學\", \"111學年度境外學位生數\"] = 0\n",
    "df.at[\"國立彰化師範大學\", \"110學年度休學人數\"] = 14\n",
    "df.at[\"國立彰化師範大學\", \"110學年度退學人數\"] = 5\n",
    "df.at[\"國立彰化師範大學\", \"110學年度學生實習數\"] = 135\n",
    "\n",
    "# 輸出修改後的表格\n",
    "print(df)"
   ]
  },
  {
   "cell_type": "code",
   "execution_count": 166,
   "id": "abfa489b",
   "metadata": {
    "scrolled": true
   },
   "outputs": [
    {
     "name": "stdout",
     "output_type": "stream",
     "text": [
      "\n",
      "\n",
      "\n",
      "\n",
      "\n",
      "\n",
      "\n",
      "\n",
      "\n",
      "\n",
      "\n",
      "\n",
      "\n",
      "\n",
      "\n",
      "教師數：5 人\n",
      "教師數：0 人\n"
     ]
    }
   ],
   "source": [
    "#抓取國立彰化師範大學的教職類資料\n",
    "\n",
    "path = r'C:\\Users\\Evan\\Downloads\\anaconda\\chromedriver-win64\\chromedriver.exe'\n",
    "url='https://udb.moe.edu.tw/udata/StatCardList/ISCED/000012CE61A9/0015/%E5%9C%8B%E7%AB%8B%E5%BD%B0%E5%8C%96%E5%B8%AB%E7%AF%84%E5%A4%A7%E5%AD%B8/02321/%E8%87%BA%E7%81%A3%E8%AA%9E%E6%96%87'\n",
    "service=Service(executable_path=path)\n",
    "service\n",
    "# 使用 Chrome 開啟瀏覽器\n",
    "driver=webdriver.Chrome(service=service)\n",
    "\n",
    "# 前往目標網站\n",
    "driver.get(url)\n",
    "\n",
    "search_teacher()"
   ]
  },
  {
   "cell_type": "code",
   "execution_count": 167,
   "id": "13b6ebd3",
   "metadata": {},
   "outputs": [
    {
     "name": "stdout",
     "output_type": "stream",
     "text": [
      "              學校名稱  111學年度專任教師數  111學年度兼任教師數\n",
      "國立政治大學      國立政治大學            6            4\n",
      "國立清華大學      國立清華大學           16           10\n",
      "國立臺灣大學      國立臺灣大學            7            2\n",
      "國立臺灣師範大學  國立臺灣師範大學           12            5\n",
      "國立成功大學      國立成功大學           16           17\n",
      "國立中興大學      國立中興大學           11            5\n",
      "國立中正大學      國立中正大學            5            3\n",
      "國立高雄師範大學  國立高雄師範大學            9           11\n",
      "國立彰化師範大學  國立彰化師範大學            5            0\n",
      "國立東華大學      國立東華大學         1200          600\n",
      "國立聯合大學      國立聯合大學         1100         5505\n",
      "國立臺中教育大學  國立臺中教育大學          900          450\n",
      "靜宜大學          靜宜大學          950          480\n",
      "真理大學          真理大學          750          380\n"
     ]
    }
   ],
   "source": [
    "# 修改國立彰化師範大學的111學年度專任教師數、111學年度兼任教師數\n",
    "#\"111學年度專任教師數\"是第1條，\"111學年度兼任教師數\"是第2條\n",
    "df1.at[\"國立彰化師範大學\", \"111學年度專任教師數\"] = 5\n",
    "df1.at[\"國立彰化師範大學\", \"111學年度兼任教師數\"] = 0\n",
    "\n",
    "# 輸出修改後的表格\n",
    "print(df1)"
   ]
  },
  {
   "cell_type": "code",
   "execution_count": 168,
   "id": "639e3437",
   "metadata": {
    "scrolled": true
   },
   "outputs": [
    {
     "name": "stdout",
     "output_type": "stream",
     "text": [
      "學生數：165 人\n",
      "畢業生數：23 人\n",
      "取得輔系資格：0 人\n",
      "取得雙主修資格：1 人\n",
      "學生數：7 人\n",
      "學生數：0 人\n",
      "僑生：2 人\n",
      "港澳生：5 人\n",
      "畢業境外生：2 人\n",
      "學生數：15 人\n",
      "上學期至少1學期(修讀學分)以上：0 人\n",
      "上學期未滿1學期(修讀學分)：0 人\n",
      "下學期至少1學期(修讀學分)以上：0 人\n",
      "下學期未滿1學期(修讀學分)：0 人\n",
      "下學期：0 人次\n",
      "上學期：95 人次\n",
      "下學期：95 人次\n",
      "上學期：11 人次\n",
      "下學期：11 人次\n",
      "總計：10 人\n",
      "上學期：7 人\n",
      "下學期：5 人\n",
      "寒假實習：24 人次\n",
      "暑期實習：88 人次\n",
      "全學期/單一學期：46 人次\n",
      "學期期間實習：162 人次\n",
      "全學年實習：26 人\n",
      "\n",
      "\n"
     ]
    }
   ],
   "source": [
    "#抓取國立東華大學的學生類資料\n",
    "\n",
    "# 設定 WebDriver 的路徑，這裡以 Chrome 為例\n",
    "path = r'C:\\Users\\Evan\\Downloads\\anaconda\\chromedriver-win64\\chromedriver.exe'\n",
    "url='https://udb.moe.edu.tw/udata/StatCardList/ISCED/000012CE61AE/0020/%E5%9C%8B%E7%AB%8B%E6%9D%B1%E8%8F%AF%E5%A4%A7%E5%AD%B8/02321/%E8%87%BA%E7%81%A3%E8%AA%9E%E6%96%87'\n",
    "service=Service(executable_path=path)\n",
    "service\n",
    "# 使用 Chrome 開啟瀏覽器\n",
    "driver=webdriver.Chrome(service=service)\n",
    "\n",
    "# 前往目標網站\n",
    "driver.get(url)\n",
    "\n",
    "#等待10秒讓網站載入完成\n",
    "time.sleep(10)\n",
    "\n",
    "search_student()"
   ]
  },
  {
   "cell_type": "code",
   "execution_count": 169,
   "id": "e7c2ceab",
   "metadata": {},
   "outputs": [
    {
     "name": "stdout",
     "output_type": "stream",
     "text": [
      "346\n"
     ]
    }
   ],
   "source": [
    "#計算國立東華大學的110學年度學生實習數總數\n",
    "student_internship=24+88+46+162+26\n",
    "print(student_internship)"
   ]
  },
  {
   "cell_type": "code",
   "execution_count": 170,
   "id": "b5e5fa2e",
   "metadata": {
    "scrolled": true
   },
   "outputs": [
    {
     "name": "stdout",
     "output_type": "stream",
     "text": [
      "              學校名稱  111學年度在學學生數  110學年度畢業生數  111學年度境外學位生數  110學年度休學人數  \\\n",
      "國立政治大學      國立政治大學           50           9             5          15   \n",
      "國立清華大學      國立清華大學          140          17            14          42   \n",
      "國立臺灣大學      國立臺灣大學           64           6             5          15   \n",
      "國立臺灣師範大學  國立臺灣師範大學          184          31            29          26   \n",
      "國立成功大學      國立成功大學          278          38            30          32   \n",
      "國立中興大學      國立中興大學          125          11            12          23   \n",
      "國立中正大學      國立中正大學           74          13             1          23   \n",
      "國立高雄師範大學  國立高雄師範大學          201          11             4          40   \n",
      "國立彰化師範大學  國立彰化師範大學           27           2             0          14   \n",
      "國立東華大學      國立東華大學          165          23             7          10   \n",
      "國立聯合大學      國立聯合大學         1100         550            55         110   \n",
      "國立臺中教育大學  國立臺中教育大學          900         450            45          90   \n",
      "靜宜大學          靜宜大學          950         480            48          95   \n",
      "真理大學          真理大學          750         380            38          75   \n",
      "\n",
      "          110學年度退學人數  110學年度學生實習數  \n",
      "國立政治大學             8          203  \n",
      "國立清華大學            13          273  \n",
      "國立臺灣大學             2         2028  \n",
      "國立臺灣師範大學           9          645  \n",
      "國立成功大學            21         1838  \n",
      "國立中興大學            18          381  \n",
      "國立中正大學             7          268  \n",
      "國立高雄師範大學          15          231  \n",
      "國立彰化師範大學           5          135  \n",
      "國立東華大學            12          346  \n",
      "國立聯合大學            22           32  \n",
      "國立臺中教育大學          18           28  \n",
      "靜宜大學              19           29  \n",
      "真理大學              16           26  \n"
     ]
    }
   ],
   "source": [
    "# 修改國立東華大學的111學年度在學學生數、110學年度畢業生數、111學年度境外學位生數、110學年度休學人數、110學年度退學人數、110學年度學生實習數\n",
    "#\"111學年度在學學生數\"是第1條，\"110學年度畢業生數\"是第2條，\"111學年度境外學位生數\"是第5條，\"110學年度休學人數\"是倒數第8條，\n",
    "#\"110學年度退學人數\"是倒數第7與第6條加總，\"110學年度學生實習數\"是倒數第5條到最後1條的總和\n",
    "df.at[\"國立東華大學\", \"111學年度在學學生數\"] = 165\n",
    "df.at[\"國立東華大學\", \"110學年度畢業生數\"] = 23\n",
    "df.at[\"國立東華大學\", \"111學年度境外學位生數\"] = 7\n",
    "df.at[\"國立東華大學\", \"110學年度休學人數\"] = 10\n",
    "df.at[\"國立東華大學\", \"110學年度退學人數\"] = 12\n",
    "df.at[\"國立東華大學\", \"110學年度學生實習數\"] = 346\n",
    "\n",
    "# 輸出修改後的表格\n",
    "print(df)"
   ]
  },
  {
   "cell_type": "code",
   "execution_count": 171,
   "id": "f1a3fc06",
   "metadata": {
    "scrolled": true
   },
   "outputs": [
    {
     "name": "stdout",
     "output_type": "stream",
     "text": [
      "\n",
      "\n",
      "\n",
      "\n",
      "\n",
      "\n",
      "\n",
      "\n",
      "\n",
      "\n",
      "\n",
      "\n",
      "\n",
      "\n",
      "\n",
      "\n",
      "\n",
      "\n",
      "\n",
      "\n",
      "\n",
      "\n",
      "\n",
      "\n",
      "\n",
      "\n",
      "\n",
      "教師數：8 人\n",
      "教師數：8 人\n"
     ]
    }
   ],
   "source": [
    "#抓取國立東華大學的教職類資料\n",
    "\n",
    "path = r'C:\\Users\\Evan\\Downloads\\anaconda\\chromedriver-win64\\chromedriver.exe'\n",
    "url='https://udb.moe.edu.tw/udata/StatCardList/ISCED/000012CE61AE/0020/%E5%9C%8B%E7%AB%8B%E6%9D%B1%E8%8F%AF%E5%A4%A7%E5%AD%B8/02321/%E8%87%BA%E7%81%A3%E8%AA%9E%E6%96%87'\n",
    "service=Service(executable_path=path)\n",
    "service\n",
    "# 使用 Chrome 開啟瀏覽器\n",
    "driver=webdriver.Chrome(service=service)\n",
    "\n",
    "# 前往目標網站\n",
    "driver.get(url)\n",
    "\n",
    "search_teacher()"
   ]
  },
  {
   "cell_type": "code",
   "execution_count": 172,
   "id": "ba3e1a52",
   "metadata": {},
   "outputs": [
    {
     "name": "stdout",
     "output_type": "stream",
     "text": [
      "              學校名稱  111學年度專任教師數  111學年度兼任教師數\n",
      "國立政治大學      國立政治大學            6            4\n",
      "國立清華大學      國立清華大學           16           10\n",
      "國立臺灣大學      國立臺灣大學            7            2\n",
      "國立臺灣師範大學  國立臺灣師範大學           12            5\n",
      "國立成功大學      國立成功大學           16           17\n",
      "國立中興大學      國立中興大學           11            5\n",
      "國立中正大學      國立中正大學            5            3\n",
      "國立高雄師範大學  國立高雄師範大學            9           11\n",
      "國立彰化師範大學  國立彰化師範大學            5            0\n",
      "國立東華大學      國立東華大學            8            8\n",
      "國立聯合大學      國立聯合大學         1100         5505\n",
      "國立臺中教育大學  國立臺中教育大學          900          450\n",
      "靜宜大學          靜宜大學          950          480\n",
      "真理大學          真理大學          750          380\n"
     ]
    }
   ],
   "source": [
    "# 修改國立東華大學的111學年度專任教師數、111學年度兼任教師數\n",
    "#\"111學年度專任教師數\"是第1條，\"111學年度兼任教師數\"是第2條\n",
    "df1.at[\"國立東華大學\", \"111學年度專任教師數\"] = 8\n",
    "df1.at[\"國立東華大學\", \"111學年度兼任教師數\"] = 8\n",
    "\n",
    "# 輸出修改後的表格\n",
    "print(df1)"
   ]
  },
  {
   "cell_type": "code",
   "execution_count": 173,
   "id": "b1596ad6",
   "metadata": {
    "scrolled": true
   },
   "outputs": [
    {
     "name": "stdout",
     "output_type": "stream",
     "text": [
      "學生數：197 人\n",
      "畢業生數：48 人\n",
      "取得輔系資格：0 人\n",
      "取得雙主修資格：1 人\n",
      "學生數：4 人\n",
      "僑生：4 人\n",
      "港澳生：0 人\n",
      "學生數：0 人\n",
      "畢業境外生：2 人\n",
      "學生數：2 人\n",
      "上學期至少1學期(修讀學分)以上：0 人\n",
      "上學期未滿1學期(修讀學分)：0 人\n",
      "上學期：0 人次\n",
      "下學期：0 人次\n",
      "上學期：6 人次\n",
      "下學期：6 人次\n",
      "上學期：1 人次\n",
      "下學期：0 人次\n",
      "總計：27 人\n",
      "上學期：9 人\n",
      "下學期：5 人\n",
      "寒假實習：1 人次\n",
      "暑期實習：36 人次\n",
      "全學期/單一學期：123 人次\n",
      "學期期間實習：7 人次\n",
      "全學年實習：32 人\n",
      "\n",
      "\n"
     ]
    }
   ],
   "source": [
    "#抓取國立聯合大學的學生類資料\n",
    "\n",
    "# 設定 WebDriver 的路徑，這裡以 Chrome 為例\n",
    "path = r'C:\\Users\\Evan\\Downloads\\anaconda\\chromedriver-win64\\chromedriver.exe'\n",
    "url='https://udb.moe.edu.tw/udata/StatCardList/ISCED/000012CE61B4/0032/%E5%9C%8B%E7%AB%8B%E8%81%AF%E5%90%88%E5%A4%A7%E5%AD%B8/02321/%E8%87%BA%E7%81%A3%E8%AA%9E%E6%96%87'\n",
    "service=Service(executable_path=path)\n",
    "service\n",
    "# 使用 Chrome 開啟瀏覽器\n",
    "driver=webdriver.Chrome(service=service)\n",
    "\n",
    "# 前往目標網站\n",
    "driver.get(url)\n",
    "\n",
    "#等待10秒讓網站載入完成\n",
    "time.sleep(10)\n",
    "\n",
    "search_student()"
   ]
  },
  {
   "cell_type": "code",
   "execution_count": 174,
   "id": "99fe71ba",
   "metadata": {},
   "outputs": [
    {
     "name": "stdout",
     "output_type": "stream",
     "text": [
      "199\n"
     ]
    }
   ],
   "source": [
    "#計算國立聯合大學的110學年度學生實習數總數\n",
    "student_internship=1+36+123+7+32\n",
    "print(student_internship)"
   ]
  },
  {
   "cell_type": "code",
   "execution_count": 175,
   "id": "a0483b3a",
   "metadata": {
    "scrolled": true
   },
   "outputs": [
    {
     "name": "stdout",
     "output_type": "stream",
     "text": [
      "              學校名稱  111學年度在學學生數  110學年度畢業生數  111學年度境外學位生數  110學年度休學人數  \\\n",
      "國立政治大學      國立政治大學           50           9             5          15   \n",
      "國立清華大學      國立清華大學          140          17            14          42   \n",
      "國立臺灣大學      國立臺灣大學           64           6             5          15   \n",
      "國立臺灣師範大學  國立臺灣師範大學          184          31            29          26   \n",
      "國立成功大學      國立成功大學          278          38            30          32   \n",
      "國立中興大學      國立中興大學          125          11            12          23   \n",
      "國立中正大學      國立中正大學           74          13             1          23   \n",
      "國立高雄師範大學  國立高雄師範大學          201          11             4          40   \n",
      "國立彰化師範大學  國立彰化師範大學           27           2             0          14   \n",
      "國立東華大學      國立東華大學          165          23             7          10   \n",
      "國立聯合大學      國立聯合大學          197          48             4          27   \n",
      "國立臺中教育大學  國立臺中教育大學          900         450            45          90   \n",
      "靜宜大學          靜宜大學          950         480            48          95   \n",
      "真理大學          真理大學          750         380            38          75   \n",
      "\n",
      "          110學年度退學人數  110學年度學生實習數  \n",
      "國立政治大學             8          203  \n",
      "國立清華大學            13          273  \n",
      "國立臺灣大學             2         2028  \n",
      "國立臺灣師範大學           9          645  \n",
      "國立成功大學            21         1838  \n",
      "國立中興大學            18          381  \n",
      "國立中正大學             7          268  \n",
      "國立高雄師範大學          15          231  \n",
      "國立彰化師範大學           5          135  \n",
      "國立東華大學            12          346  \n",
      "國立聯合大學            14          199  \n",
      "國立臺中教育大學          18           28  \n",
      "靜宜大學              19           29  \n",
      "真理大學              16           26  \n"
     ]
    }
   ],
   "source": [
    "# 修改國立聯合大學的111學年度在學學生數、110學年度畢業生數、111學年度境外學位生數、110學年度休學人數、110學年度退學人數、110學年度學生實習數\n",
    "#\"111學年度在學學生數\"是第1條，\"110學年度畢業生數\"是第2條，\"111學年度境外學位生數\"是第5條，\"110學年度休學人數\"是倒數第8條，\n",
    "#\"110學年度退學人數\"是倒數第7與第6條加總，\"110學年度學生實習數\"是倒數第5條到最後1條的總和\n",
    "df.at[\"國立聯合大學\", \"111學年度在學學生數\"] = 197\n",
    "df.at[\"國立聯合大學\", \"110學年度畢業生數\"] = 48\n",
    "df.at[\"國立聯合大學\", \"111學年度境外學位生數\"] = 4\n",
    "df.at[\"國立聯合大學\", \"110學年度休學人數\"] = 27\n",
    "df.at[\"國立聯合大學\", \"110學年度退學人數\"] = 14\n",
    "df.at[\"國立聯合大學\", \"110學年度學生實習數\"] = 199\n",
    "\n",
    "# 輸出修改後的表格\n",
    "print(df)"
   ]
  },
  {
   "cell_type": "code",
   "execution_count": 176,
   "id": "c8378058",
   "metadata": {
    "scrolled": true
   },
   "outputs": [
    {
     "name": "stdout",
     "output_type": "stream",
     "text": [
      "\n",
      "\n",
      "\n",
      "\n",
      "\n",
      "\n",
      "\n",
      "\n",
      "\n",
      "\n",
      "\n",
      "\n",
      "\n",
      "\n",
      "\n",
      "\n",
      "\n",
      "\n",
      "\n",
      "\n",
      "\n",
      "\n",
      "\n",
      "\n",
      "\n",
      "\n",
      "教師數：14 人\n",
      "教師數：6 人\n"
     ]
    }
   ],
   "source": [
    "#抓取國立聯合大學的教職類資料\n",
    "\n",
    "path = r'C:\\Users\\Evan\\Downloads\\anaconda\\chromedriver-win64\\chromedriver.exe'\n",
    "url='https://udb.moe.edu.tw/udata/StatCardList/ISCED/000012CE61B4/0032/%E5%9C%8B%E7%AB%8B%E8%81%AF%E5%90%88%E5%A4%A7%E5%AD%B8/02321/%E8%87%BA%E7%81%A3%E8%AA%9E%E6%96%87'\n",
    "service=Service(executable_path=path)\n",
    "service\n",
    "# 使用 Chrome 開啟瀏覽器\n",
    "driver=webdriver.Chrome(service=service)\n",
    "\n",
    "# 前往目標網站\n",
    "driver.get(url)\n",
    "\n",
    "search_teacher()"
   ]
  },
  {
   "cell_type": "code",
   "execution_count": 177,
   "id": "313029c1",
   "metadata": {},
   "outputs": [
    {
     "name": "stdout",
     "output_type": "stream",
     "text": [
      "              學校名稱  111學年度專任教師數  111學年度兼任教師數\n",
      "國立政治大學      國立政治大學            6            4\n",
      "國立清華大學      國立清華大學           16           10\n",
      "國立臺灣大學      國立臺灣大學            7            2\n",
      "國立臺灣師範大學  國立臺灣師範大學           12            5\n",
      "國立成功大學      國立成功大學           16           17\n",
      "國立中興大學      國立中興大學           11            5\n",
      "國立中正大學      國立中正大學            5            3\n",
      "國立高雄師範大學  國立高雄師範大學            9           11\n",
      "國立彰化師範大學  國立彰化師範大學            5            0\n",
      "國立東華大學      國立東華大學            8            8\n",
      "國立聯合大學      國立聯合大學           14            6\n",
      "國立臺中教育大學  國立臺中教育大學          900          450\n",
      "靜宜大學          靜宜大學          950          480\n",
      "真理大學          真理大學          750          380\n"
     ]
    }
   ],
   "source": [
    "# 修改國立聯合大學的111學年度專任教師數、111學年度兼任教師數\n",
    "#\"111學年度專任教師數\"是第1條，\"111學年度兼任教師數\"是第2條\n",
    "df1.at[\"國立聯合大學\", \"111學年度專任教師數\"] = 14\n",
    "df1.at[\"國立聯合大學\", \"111學年度兼任教師數\"] = 6\n",
    "\n",
    "# 輸出修改後的表格\n",
    "print(df1)"
   ]
  },
  {
   "cell_type": "code",
   "execution_count": 178,
   "id": "6cea1b04",
   "metadata": {
    "scrolled": true
   },
   "outputs": [
    {
     "name": "stdout",
     "output_type": "stream",
     "text": [
      "學生數：204 人\n",
      "畢業生數：38 人\n",
      "取得輔系資格：0 人\n",
      "取得雙主修資格：0 人\n",
      "學生數：0 人\n",
      "僑生：0 人\n",
      "港澳生：0 人\n",
      "學生數：12 人\n",
      "上學期至少1學期(修讀學分)以上：0 人\n",
      "上學期未滿1學期(修讀學分)：0 人\n",
      "下學期至少1學期(修讀學分)以上：0 人\n",
      "下學期未滿1學期(修讀學分)：0 人\n",
      "上學期：5 人次\n",
      "下學期：5 人次\n",
      "上學期：6 人次\n",
      "下學期：7 人次\n",
      "上學期：0 人次\n",
      "下學期：0 人次\n",
      "總計：21 人\n",
      "上學期：13 人\n",
      "下學期：4 人\n",
      "寒假實習：0 人次\n",
      "暑期實習：154 人次\n",
      "全學期/單一學期：16 人次\n",
      "學期期間實習：97 人次\n",
      "全學年實習：17 人\n",
      "\n",
      "\n"
     ]
    }
   ],
   "source": [
    "#抓取國立臺中教育大學的學生類資料\n",
    "\n",
    "# 設定 WebDriver 的路徑，這裡以 Chrome 為例\n",
    "path = r'C:\\Users\\Evan\\Downloads\\anaconda\\chromedriver-win64\\chromedriver.exe'\n",
    "url='https://udb.moe.edu.tw/udata/StatCardList/ISCED/000012CE61B8/0039/%E5%9C%8B%E7%AB%8B%E8%87%BA%E4%B8%AD%E6%95%99%E8%82%B2%E5%A4%A7%E5%AD%B8/02321/%E8%87%BA%E7%81%A3%E8%AA%9E%E6%96%87'\n",
    "service=Service(executable_path=path)\n",
    "service\n",
    "# 使用 Chrome 開啟瀏覽器\n",
    "driver=webdriver.Chrome(service=service)\n",
    "\n",
    "# 前往目標網站\n",
    "driver.get(url)\n",
    "\n",
    "#等待10秒讓網站載入完成\n",
    "time.sleep(10)\n",
    "\n",
    "search_student()"
   ]
  },
  {
   "cell_type": "code",
   "execution_count": 180,
   "id": "632eadfe",
   "metadata": {},
   "outputs": [
    {
     "name": "stdout",
     "output_type": "stream",
     "text": [
      "284\n"
     ]
    }
   ],
   "source": [
    "#計算國立臺中教育大學的110學年度學生實習數總數\n",
    "student_internship=154+16+97+17\n",
    "print(student_internship)"
   ]
  },
  {
   "cell_type": "code",
   "execution_count": 181,
   "id": "4ca4b007",
   "metadata": {
    "scrolled": true
   },
   "outputs": [
    {
     "name": "stdout",
     "output_type": "stream",
     "text": [
      "              學校名稱  111學年度在學學生數  110學年度畢業生數  111學年度境外學位生數  110學年度休學人數  \\\n",
      "國立政治大學      國立政治大學           50           9             5          15   \n",
      "國立清華大學      國立清華大學          140          17            14          42   \n",
      "國立臺灣大學      國立臺灣大學           64           6             5          15   \n",
      "國立臺灣師範大學  國立臺灣師範大學          184          31            29          26   \n",
      "國立成功大學      國立成功大學          278          38            30          32   \n",
      "國立中興大學      國立中興大學          125          11            12          23   \n",
      "國立中正大學      國立中正大學           74          13             1          23   \n",
      "國立高雄師範大學  國立高雄師範大學          201          11             4          40   \n",
      "國立彰化師範大學  國立彰化師範大學           27           2             0          14   \n",
      "國立東華大學      國立東華大學          165          23             7          10   \n",
      "國立聯合大學      國立聯合大學          197          48             4          27   \n",
      "國立臺中教育大學  國立臺中教育大學          204          38             0          21   \n",
      "靜宜大學          靜宜大學          950         480            48          95   \n",
      "真理大學          真理大學          750         380            38          75   \n",
      "\n",
      "          110學年度退學人數  110學年度學生實習數  \n",
      "國立政治大學             8          203  \n",
      "國立清華大學            13          273  \n",
      "國立臺灣大學             2         2028  \n",
      "國立臺灣師範大學           9          645  \n",
      "國立成功大學            21         1838  \n",
      "國立中興大學            18          381  \n",
      "國立中正大學             7          268  \n",
      "國立高雄師範大學          15          231  \n",
      "國立彰化師範大學           5          135  \n",
      "國立東華大學            12          346  \n",
      "國立聯合大學            14          199  \n",
      "國立臺中教育大學          17          284  \n",
      "靜宜大學              19           29  \n",
      "真理大學              16           26  \n"
     ]
    }
   ],
   "source": [
    "# 修改國立臺中教育大學的111學年度在學學生數、110學年度畢業生數、111學年度境外學位生數、110學年度休學人數、110學年度退學人數、110學年度學生實習數\n",
    "#\"111學年度在學學生數\"是第1條，\"110學年度畢業生數\"是第2條，\"111學年度境外學位生數\"是第5條，\"110學年度休學人數\"是倒數第8條，\n",
    "#\"110學年度退學人數\"是倒數第7與第6條加總，\"110學年度學生實習數\"是倒數第5條到最後1條的總和\n",
    "df.at[\"國立臺中教育大學\", \"111學年度在學學生數\"] = 204\n",
    "df.at[\"國立臺中教育大學\", \"110學年度畢業生數\"] = 38\n",
    "df.at[\"國立臺中教育大學\", \"111學年度境外學位生數\"] = 0\n",
    "df.at[\"國立臺中教育大學\", \"110學年度休學人數\"] = 21\n",
    "df.at[\"國立臺中教育大學\", \"110學年度退學人數\"] = 17\n",
    "df.at[\"國立臺中教育大學\", \"110學年度學生實習數\"] = 284\n",
    "\n",
    "# 輸出修改後的表格\n",
    "print(df)"
   ]
  },
  {
   "cell_type": "code",
   "execution_count": 182,
   "id": "a9a768a5",
   "metadata": {
    "scrolled": true
   },
   "outputs": [
    {
     "name": "stdout",
     "output_type": "stream",
     "text": [
      "\n",
      "\n",
      "\n",
      "\n",
      "\n",
      "\n",
      "\n",
      "\n",
      "\n",
      "\n",
      "\n",
      "\n",
      "\n",
      "\n",
      "\n",
      "\n",
      "\n",
      "\n",
      "\n",
      "\n",
      "\n",
      "\n",
      "\n",
      "\n",
      "\n",
      "\n",
      "教師數：9 人\n",
      "教師數：2 人\n"
     ]
    }
   ],
   "source": [
    "#抓取國立臺中教育大學的教職類資料\n",
    "\n",
    "path = r'C:\\Users\\Evan\\Downloads\\anaconda\\chromedriver-win64\\chromedriver.exe'\n",
    "url='https://udb.moe.edu.tw/udata/StatCardList/ISCED/000012CE61B8/0039/%E5%9C%8B%E7%AB%8B%E8%87%BA%E4%B8%AD%E6%95%99%E8%82%B2%E5%A4%A7%E5%AD%B8/02321/%E8%87%BA%E7%81%A3%E8%AA%9E%E6%96%87'\n",
    "service=Service(executable_path=path)\n",
    "service\n",
    "# 使用 Chrome 開啟瀏覽器\n",
    "driver=webdriver.Chrome(service=service)\n",
    "\n",
    "# 前往目標網站\n",
    "driver.get(url)\n",
    "\n",
    "search_teacher()"
   ]
  },
  {
   "cell_type": "code",
   "execution_count": 183,
   "id": "472acc4e",
   "metadata": {},
   "outputs": [
    {
     "name": "stdout",
     "output_type": "stream",
     "text": [
      "              學校名稱  111學年度專任教師數  111學年度兼任教師數\n",
      "國立政治大學      國立政治大學            6            4\n",
      "國立清華大學      國立清華大學           16           10\n",
      "國立臺灣大學      國立臺灣大學            7            2\n",
      "國立臺灣師範大學  國立臺灣師範大學           12            5\n",
      "國立成功大學      國立成功大學           16           17\n",
      "國立中興大學      國立中興大學           11            5\n",
      "國立中正大學      國立中正大學            5            3\n",
      "國立高雄師範大學  國立高雄師範大學            9           11\n",
      "國立彰化師範大學  國立彰化師範大學            5            0\n",
      "國立東華大學      國立東華大學            8            8\n",
      "國立聯合大學      國立聯合大學           14            6\n",
      "國立臺中教育大學  國立臺中教育大學            9            2\n",
      "靜宜大學          靜宜大學          950          480\n",
      "真理大學          真理大學          750          380\n"
     ]
    }
   ],
   "source": [
    "# 修改國立臺中教育大學的111學年度專任教師數、111學年度兼任教師數\n",
    "#\"111學年度專任教師數\"是第1條，\"111學年度兼任教師數\"是第2條\n",
    "df1.at[\"國立臺中教育大學\", \"111學年度專任教師數\"] = 9\n",
    "df1.at[\"國立臺中教育大學\", \"111學年度兼任教師數\"] = 2\n",
    "\n",
    "# 輸出修改後的表格\n",
    "print(df1)"
   ]
  },
  {
   "cell_type": "code",
   "execution_count": 184,
   "id": "a476953c",
   "metadata": {
    "scrolled": true
   },
   "outputs": [
    {
     "name": "stdout",
     "output_type": "stream",
     "text": [
      "學生數：239 人\n",
      "畢業生數：55 人\n",
      "取得輔系資格：2 人\n",
      "取得雙主修資格：30 人\n",
      "學生數：1 人\n",
      "學生數：1 人\n",
      "僑生：0 人\n",
      "港澳生：0 人\n",
      "學生數：0 人\n",
      "畢業境外生：2 人\n",
      "學生數：10 人\n",
      "上學期至少1學期(修讀學分)以上：0 人\n",
      "上學期未滿1學期(修讀學分)：0 人\n",
      "下學期至少1學期(修讀學分)以上：0 人\n",
      "下學期未滿1學期(修讀學分)：0 人\n",
      "上學期：0 人次\n",
      "下學期：0 人次\n",
      "上學期：4 人次\n",
      "下學期：4 人次\n",
      "上學期：196 人次\n",
      "下學期：174 人次\n",
      "總計：14 人\n",
      "上學期：15 人\n",
      "下學期：4 人\n",
      "寒假實習：12 人次\n",
      "暑期實習：301 人次\n",
      "全學期/單一學期：167 人次\n",
      "學期期間實習：346 人次\n",
      "全學年實習：16 人\n",
      "\n",
      "\n"
     ]
    }
   ],
   "source": [
    "#抓取靜宜大學的學生類資料\n",
    "\n",
    "# 設定 WebDriver 的路徑，這裡以 Chrome 為例\n",
    "path = r'C:\\Users\\Evan\\Downloads\\anaconda\\chromedriver-win64\\chromedriver.exe'\n",
    "url='https://udb.moe.edu.tw/udata/StatCardList/ISCED/000012CE61C4/1008/%E9%9D%9C%E5%AE%9C%E5%A4%A7%E5%AD%B8/02321/%E8%87%BA%E7%81%A3%E8%AA%9E%E6%96%87'\n",
    "service=Service(executable_path=path)\n",
    "service\n",
    "# 使用 Chrome 開啟瀏覽器\n",
    "driver=webdriver.Chrome(service=service)\n",
    "\n",
    "# 前往目標網站\n",
    "driver.get(url)\n",
    "\n",
    "#等待10秒讓網站載入完成\n",
    "time.sleep(10)\n",
    "\n",
    "search_student()"
   ]
  },
  {
   "cell_type": "code",
   "execution_count": 185,
   "id": "bcd00970",
   "metadata": {},
   "outputs": [
    {
     "name": "stdout",
     "output_type": "stream",
     "text": [
      "842\n"
     ]
    }
   ],
   "source": [
    "#計算靜宜大學的110學年度學生實習數總數\n",
    "student_internship=12+301+167+346+16\n",
    "print(student_internship)"
   ]
  },
  {
   "cell_type": "code",
   "execution_count": 186,
   "id": "475f5449",
   "metadata": {
    "scrolled": true
   },
   "outputs": [
    {
     "name": "stdout",
     "output_type": "stream",
     "text": [
      "              學校名稱  111學年度在學學生數  110學年度畢業生數  111學年度境外學位生數  110學年度休學人數  \\\n",
      "國立政治大學      國立政治大學           50           9             5          15   \n",
      "國立清華大學      國立清華大學          140          17            14          42   \n",
      "國立臺灣大學      國立臺灣大學           64           6             5          15   \n",
      "國立臺灣師範大學  國立臺灣師範大學          184          31            29          26   \n",
      "國立成功大學      國立成功大學          278          38            30          32   \n",
      "國立中興大學      國立中興大學          125          11            12          23   \n",
      "國立中正大學      國立中正大學           74          13             1          23   \n",
      "國立高雄師範大學  國立高雄師範大學          201          11             4          40   \n",
      "國立彰化師範大學  國立彰化師範大學           27           2             0          14   \n",
      "國立東華大學      國立東華大學          165          23             7          10   \n",
      "國立聯合大學      國立聯合大學          197          48             4          27   \n",
      "國立臺中教育大學  國立臺中教育大學          204          38             0          21   \n",
      "靜宜大學          靜宜大學          239          55             1          14   \n",
      "真理大學          真理大學          750         380            38          75   \n",
      "\n",
      "          110學年度退學人數  110學年度學生實習數  \n",
      "國立政治大學             8          203  \n",
      "國立清華大學            13          273  \n",
      "國立臺灣大學             2         2028  \n",
      "國立臺灣師範大學           9          645  \n",
      "國立成功大學            21         1838  \n",
      "國立中興大學            18          381  \n",
      "國立中正大學             7          268  \n",
      "國立高雄師範大學          15          231  \n",
      "國立彰化師範大學           5          135  \n",
      "國立東華大學            12          346  \n",
      "國立聯合大學            14          199  \n",
      "國立臺中教育大學          17          284  \n",
      "靜宜大學              19          842  \n",
      "真理大學              16           26  \n"
     ]
    }
   ],
   "source": [
    "# 修改靜宜大學的111學年度在學學生數、110學年度畢業生數、111學年度境外學位生數、110學年度休學人數、110學年度退學人數、110學年度學生實習數\n",
    "#\"111學年度在學學生數\"是第1條，\"110學年度畢業生數\"是第2條，\"111學年度境外學位生數\"是第5條，\"110學年度休學人數\"是倒數第8條，\n",
    "#\"110學年度退學人數\"是倒數第7與第6條加總，\"110學年度學生實習數\"是倒數第5條到最後1條的總和\n",
    "df.at[\"靜宜大學\", \"111學年度在學學生數\"] = 239\n",
    "df.at[\"靜宜大學\", \"110學年度畢業生數\"] = 55\n",
    "df.at[\"靜宜大學\", \"111學年度境外學位生數\"] = 1\n",
    "df.at[\"靜宜大學\", \"110學年度休學人數\"] = 14\n",
    "df.at[\"靜宜大學\", \"110學年度退學人數\"] = 19\n",
    "df.at[\"靜宜大學\", \"110學年度學生實習數\"] = 842\n",
    "\n",
    "# 輸出修改後的表格\n",
    "print(df)"
   ]
  },
  {
   "cell_type": "code",
   "execution_count": 187,
   "id": "f5af4b4e",
   "metadata": {
    "scrolled": true
   },
   "outputs": [
    {
     "name": "stdout",
     "output_type": "stream",
     "text": [
      "\n",
      "\n",
      "\n",
      "\n",
      "\n",
      "\n",
      "\n",
      "\n",
      "\n",
      "\n",
      "\n",
      "\n",
      "\n",
      "\n",
      "\n",
      "\n",
      "\n",
      "\n",
      "\n",
      "\n",
      "\n",
      "\n",
      "\n",
      "\n",
      "\n",
      "\n",
      "\n",
      "\n",
      "\n",
      "教師數：9 人\n",
      "教師數：6 人\n"
     ]
    }
   ],
   "source": [
    "#抓取靜宜大學的教職類資料\n",
    "\n",
    "path = r'C:\\Users\\Evan\\Downloads\\anaconda\\chromedriver-win64\\chromedriver.exe'\n",
    "url='https://udb.moe.edu.tw/udata/StatCardList/ISCED/000012CE61C4/1008/%E9%9D%9C%E5%AE%9C%E5%A4%A7%E5%AD%B8/02321/%E8%87%BA%E7%81%A3%E8%AA%9E%E6%96%87'\n",
    "service=Service(executable_path=path)\n",
    "service\n",
    "# 使用 Chrome 開啟瀏覽器\n",
    "driver=webdriver.Chrome(service=service)\n",
    "\n",
    "# 前往目標網站\n",
    "driver.get(url)\n",
    "\n",
    "search_teacher()"
   ]
  },
  {
   "cell_type": "code",
   "execution_count": 188,
   "id": "d70de348",
   "metadata": {},
   "outputs": [
    {
     "name": "stdout",
     "output_type": "stream",
     "text": [
      "              學校名稱  111學年度專任教師數  111學年度兼任教師數\n",
      "國立政治大學      國立政治大學            6            4\n",
      "國立清華大學      國立清華大學           16           10\n",
      "國立臺灣大學      國立臺灣大學            7            2\n",
      "國立臺灣師範大學  國立臺灣師範大學           12            5\n",
      "國立成功大學      國立成功大學           16           17\n",
      "國立中興大學      國立中興大學           11            5\n",
      "國立中正大學      國立中正大學            5            3\n",
      "國立高雄師範大學  國立高雄師範大學            9           11\n",
      "國立彰化師範大學  國立彰化師範大學            5            0\n",
      "國立東華大學      國立東華大學            8            8\n",
      "國立聯合大學      國立聯合大學           14            6\n",
      "國立臺中教育大學  國立臺中教育大學            9            2\n",
      "靜宜大學          靜宜大學            9            6\n",
      "真理大學          真理大學          750          380\n"
     ]
    }
   ],
   "source": [
    "# 修改靜宜大學的111學年度專任教師數、111學年度兼任教師數\n",
    "#\"111學年度專任教師數\"是第1條，\"111學年度兼任教師數\"是第2條\n",
    "df1.at[\"靜宜大學\", \"111學年度專任教師數\"] = 9\n",
    "df1.at[\"靜宜大學\", \"111學年度兼任教師數\"] = 6\n",
    "\n",
    "# 輸出修改後的表格\n",
    "print(df1)"
   ]
  },
  {
   "cell_type": "code",
   "execution_count": 189,
   "id": "1cb37e1d",
   "metadata": {
    "scrolled": true
   },
   "outputs": [
    {
     "name": "stdout",
     "output_type": "stream",
     "text": [
      "學生數：125 人\n",
      "畢業生數：21 人\n",
      "取得輔系資格：1 人\n",
      "取得雙主修資格：0 人\n",
      "學生數：6 人\n",
      "學生數：5 人\n",
      "僑生：0 人\n",
      "港澳生：1 人\n",
      "畢業境外生：0 人\n",
      "學生數：12 人\n",
      "下學期至少1學期(修讀學分)以上：0 人\n",
      "下學期未滿1學期(修讀學分)：0 人\n",
      "上學期：1 人次\n",
      "下學期：1 人次\n",
      "上學期：2 人次\n",
      "下學期：1 人次\n",
      "上學期：0 人次\n",
      "下學期：0 人次\n",
      "總計：9 人\n",
      "上學期：10 人\n",
      "下學期：7 人\n",
      "寒假實習：4 人次\n",
      "暑期實習：145 人次\n",
      "全學期/單一學期：30 人次\n",
      "學期期間實習：190 人次\n",
      "全學年實習：0 人\n",
      "\n",
      "\n"
     ]
    }
   ],
   "source": [
    "#抓取真理大學的學生類資料\n",
    "\n",
    "# 設定 WebDriver 的路徑，這裡以 Chrome 為例\n",
    "path = r'C:\\Users\\Evan\\Downloads\\anaconda\\chromedriver-win64\\chromedriver.exe'\n",
    "url='https://udb.moe.edu.tw/udata/StatCardList/ISCED/000012CE61D0/1021/%E7%9C%9F%E7%90%86%E5%A4%A7%E5%AD%B8/02321/%E8%87%BA%E7%81%A3%E8%AA%9E%E6%96%87'\n",
    "service=Service(executable_path=path)\n",
    "service\n",
    "# 使用 Chrome 開啟瀏覽器\n",
    "driver=webdriver.Chrome(service=service)\n",
    "\n",
    "# 前往目標網站\n",
    "driver.get(url)\n",
    "\n",
    "#等待10秒讓網站載入完成\n",
    "time.sleep(10)\n",
    "\n",
    "search_student()"
   ]
  },
  {
   "cell_type": "code",
   "execution_count": 190,
   "id": "257492d0",
   "metadata": {},
   "outputs": [
    {
     "name": "stdout",
     "output_type": "stream",
     "text": [
      "369\n"
     ]
    }
   ],
   "source": [
    "#計算真理大學的110學年度學生實習數總數\n",
    "student_internship=4+145+30+190\n",
    "print(student_internship)"
   ]
  },
  {
   "cell_type": "code",
   "execution_count": 191,
   "id": "b6e18bdd",
   "metadata": {
    "scrolled": true
   },
   "outputs": [
    {
     "name": "stdout",
     "output_type": "stream",
     "text": [
      "              學校名稱  111學年度在學學生數  110學年度畢業生數  111學年度境外學位生數  110學年度休學人數  \\\n",
      "國立政治大學      國立政治大學           50           9             5          15   \n",
      "國立清華大學      國立清華大學          140          17            14          42   \n",
      "國立臺灣大學      國立臺灣大學           64           6             5          15   \n",
      "國立臺灣師範大學  國立臺灣師範大學          184          31            29          26   \n",
      "國立成功大學      國立成功大學          278          38            30          32   \n",
      "國立中興大學      國立中興大學          125          11            12          23   \n",
      "國立中正大學      國立中正大學           74          13             1          23   \n",
      "國立高雄師範大學  國立高雄師範大學          201          11             4          40   \n",
      "國立彰化師範大學  國立彰化師範大學           27           2             0          14   \n",
      "國立東華大學      國立東華大學          165          23             7          10   \n",
      "國立聯合大學      國立聯合大學          197          48             4          27   \n",
      "國立臺中教育大學  國立臺中教育大學          204          38             0          21   \n",
      "靜宜大學          靜宜大學          239          55             1          14   \n",
      "真理大學          真理大學          125          21             6           9   \n",
      "\n",
      "          110學年度退學人數  110學年度學生實習數  \n",
      "國立政治大學             8          203  \n",
      "國立清華大學            13          273  \n",
      "國立臺灣大學             2         2028  \n",
      "國立臺灣師範大學           9          645  \n",
      "國立成功大學            21         1838  \n",
      "國立中興大學            18          381  \n",
      "國立中正大學             7          268  \n",
      "國立高雄師範大學          15          231  \n",
      "國立彰化師範大學           5          135  \n",
      "國立東華大學            12          346  \n",
      "國立聯合大學            14          199  \n",
      "國立臺中教育大學          17          284  \n",
      "靜宜大學              19          842  \n",
      "真理大學              17          369  \n"
     ]
    }
   ],
   "source": [
    "# 修改真理大學的111學年度在學學生數、110學年度畢業生數、111學年度境外學位生數、110學年度休學人數、110學年度退學人數、110學年度學生實習數\n",
    "#\"111學年度在學學生數\"是第1條，\"110學年度畢業生數\"是第2條，\"111學年度境外學位生數\"是第5條，\"110學年度休學人數\"是倒數第8條，\n",
    "#\"110學年度退學人數\"是倒數第7與第6條加總，\"110學年度學生實習數\"是倒數第5條到最後1條的總和\n",
    "df.at[\"真理大學\", \"111學年度在學學生數\"] = 125\n",
    "df.at[\"真理大學\", \"110學年度畢業生數\"] = 21\n",
    "df.at[\"真理大學\", \"111學年度境外學位生數\"] = 6\n",
    "df.at[\"真理大學\", \"110學年度休學人數\"] = 9\n",
    "df.at[\"真理大學\", \"110學年度退學人數\"] = 17\n",
    "df.at[\"真理大學\", \"110學年度學生實習數\"] = 369\n",
    "\n",
    "# 輸出修改後的表格\n",
    "print(df)"
   ]
  },
  {
   "cell_type": "code",
   "execution_count": 192,
   "id": "7282ecea",
   "metadata": {
    "scrolled": true
   },
   "outputs": [
    {
     "name": "stdout",
     "output_type": "stream",
     "text": [
      "\n",
      "\n",
      "\n",
      "\n",
      "\n",
      "\n",
      "\n",
      "\n",
      "\n",
      "\n",
      "\n",
      "\n",
      "\n",
      "\n",
      "\n",
      "\n",
      "\n",
      "\n",
      "\n",
      "\n",
      "\n",
      "\n",
      "\n",
      "\n",
      "\n",
      "\n",
      "教師數：7 人\n",
      "教師數：5 人\n"
     ]
    }
   ],
   "source": [
    "#抓取真理大學的教職類資料\n",
    "\n",
    "path = r'C:\\Users\\Evan\\Downloads\\anaconda\\chromedriver-win64\\chromedriver.exe'\n",
    "url='https://udb.moe.edu.tw/udata/StatCardList/ISCED/000012CE61D0/1021/%E7%9C%9F%E7%90%86%E5%A4%A7%E5%AD%B8/02321/%E8%87%BA%E7%81%A3%E8%AA%9E%E6%96%87'\n",
    "service=Service(executable_path=path)\n",
    "service\n",
    "# 使用 Chrome 開啟瀏覽器\n",
    "driver=webdriver.Chrome(service=service)\n",
    "\n",
    "# 前往目標網站\n",
    "driver.get(url)\n",
    "\n",
    "search_teacher()"
   ]
  },
  {
   "cell_type": "code",
   "execution_count": 193,
   "id": "5a21f8bd",
   "metadata": {
    "scrolled": true
   },
   "outputs": [
    {
     "name": "stdout",
     "output_type": "stream",
     "text": [
      "              學校名稱  111學年度專任教師數  111學年度兼任教師數\n",
      "國立政治大學      國立政治大學            6            4\n",
      "國立清華大學      國立清華大學           16           10\n",
      "國立臺灣大學      國立臺灣大學            7            2\n",
      "國立臺灣師範大學  國立臺灣師範大學           12            5\n",
      "國立成功大學      國立成功大學           16           17\n",
      "國立中興大學      國立中興大學           11            5\n",
      "國立中正大學      國立中正大學            5            3\n",
      "國立高雄師範大學  國立高雄師範大學            9           11\n",
      "國立彰化師範大學  國立彰化師範大學            5            0\n",
      "國立東華大學      國立東華大學            8            8\n",
      "國立聯合大學      國立聯合大學           14            6\n",
      "國立臺中教育大學  國立臺中教育大學            9            2\n",
      "靜宜大學          靜宜大學            9            6\n",
      "真理大學          真理大學            7            5\n"
     ]
    }
   ],
   "source": [
    "# 修改真理大學的111學年度專任教師數、111學年度兼任教師數\n",
    "#\"111學年度專任教師數\"是第1條，\"111學年度兼任教師數\"是第2條\n",
    "df1.at[\"真理大學\", \"111學年度專任教師數\"] = 7\n",
    "df1.at[\"真理大學\", \"111學年度兼任教師數\"] = 5\n",
    "\n",
    "# 輸出修改後的表格\n",
    "print(df1)"
   ]
  },
  {
   "cell_type": "code",
   "execution_count": 194,
   "id": "e22f8627",
   "metadata": {},
   "outputs": [],
   "source": [
    "# 保存成CSV文件(學生類)\n",
    "df.to_csv('臺灣語文細學類大專院校學生類人數統計.csv', index=False, encoding='utf-8-sig')"
   ]
  },
  {
   "cell_type": "code",
   "execution_count": 195,
   "id": "712f2aeb",
   "metadata": {},
   "outputs": [],
   "source": [
    "# 保存成CSV文件(教職類)\n",
    "df1.to_csv('臺灣語文細學類大專院校教職類人數統計.csv', index=False, encoding='utf-8-sig')"
   ]
  }
 ],
 "metadata": {
  "kernelspec": {
   "display_name": "Python 3 (ipykernel)",
   "language": "python",
   "name": "python3"
  },
  "language_info": {
   "codemirror_mode": {
    "name": "ipython",
    "version": 3
   },
   "file_extension": ".py",
   "mimetype": "text/x-python",
   "name": "python",
   "nbconvert_exporter": "python",
   "pygments_lexer": "ipython3",
   "version": "3.11.4"
  }
 },
 "nbformat": 4,
 "nbformat_minor": 5
}
